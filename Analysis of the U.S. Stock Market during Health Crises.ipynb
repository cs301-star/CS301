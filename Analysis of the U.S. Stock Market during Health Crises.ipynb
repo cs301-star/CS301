{
 "cells": [
  {
   "cell_type": "markdown",
   "metadata": {},
   "source": [
    "# Analysis of the U.S. Stock Market during Health Crises\n",
    "Jupyter Notebook\n",
    "\n",
    "Authors:\n",
    "Kush Patel, \n",
    "Katherine Thai, \n",
    "Jonathan Perez, \n",
    "Ron Nathaniel, \n",
    "Justin Molina, \n",
    "Dhrumil Rana, "
   ]
  },
  {
   "cell_type": "code",
   "execution_count": 9,
   "metadata": {},
   "outputs": [],
   "source": [
    "import pandas as pd\n",
    "import os.path as path"
   ]
  },
  {
   "cell_type": "code",
   "execution_count": 11,
   "metadata": {},
   "outputs": [],
   "source": [
    "# Opening CSV files using Pandas into df\n",
    "dir_data = 'data'\n",
    "file_gspc = '^GSPC.csv'\n",
    "file_cl_eq_f = 'CL=F.csv'\n",
    "file_gc_eq_f = 'GC=F.csv'\n",
    "\n",
    "gspc_df = pd.read_csv(path.join(dir_data, file_gspc))\n",
    "clf_df = pd.read_csv(path.join(dir_data, file_cl_eq_f))\n",
    "gcf_df = pd.read_csv(path.join(dir_data, file_gc_eq_f))"
   ]
  },
  {
   "cell_type": "code",
   "execution_count": 3,
   "metadata": {},
   "outputs": [
    {
     "data": {
      "text/plain": [
       "Date          object\n",
       "Open         float64\n",
       "High         float64\n",
       "Low          float64\n",
       "Close        float64\n",
       "Adj Close    float64\n",
       "Volume         int64\n",
       "dtype: object"
      ]
     },
     "execution_count": 3,
     "metadata": {},
     "output_type": "execute_result"
    }
   ],
   "source": [
    "# gspc_df.head()\n",
    "# gspc_df.dtypes"
   ]
  },
  {
   "cell_type": "code",
   "execution_count": 4,
   "metadata": {},
   "outputs": [
    {
     "data": {
      "text/plain": [
       "Date          object\n",
       "Open         float64\n",
       "High         float64\n",
       "Low          float64\n",
       "Close        float64\n",
       "Adj Close    float64\n",
       "Volume         int64\n",
       "dtype: object"
      ]
     },
     "execution_count": 4,
     "metadata": {},
     "output_type": "execute_result"
    }
   ],
   "source": [
    "# clf_df.head()\n",
    "# clf_df.dtypes"
   ]
  },
  {
   "cell_type": "code",
   "execution_count": 5,
   "metadata": {},
   "outputs": [
    {
     "data": {
      "text/plain": [
       "Date          object\n",
       "Open         float64\n",
       "High         float64\n",
       "Low          float64\n",
       "Close        float64\n",
       "Adj Close    float64\n",
       "Volume         int64\n",
       "dtype: object"
      ]
     },
     "execution_count": 5,
     "metadata": {},
     "output_type": "execute_result"
    }
   ],
   "source": [
    "# gcf_df.head()\n",
    "# gcf_df.dtypes"
   ]
  },
  {
   "cell_type": "code",
   "execution_count": 6,
   "metadata": {},
   "outputs": [],
   "source": [
    "#\n",
    "# will have to do more than this since some have multiple pages\n",
    "# and others have headers and other substance that is not data\n",
    "#\n",
    "rows_to_skip = list(range(0, 6))\n",
    "\n",
    "dir_SP = \"S&P sector return\\\\\"\n",
    "\n",
    "file_HC = \"S&P 500 - Health Care - PerformanceGraphExport.xls\"\n",
    "file_IN = \"S&P 500 - Industrials - PerformanceGraphExport.xls\"\n",
    "file_FN = \"S&P 500- Financials - PerformanceGraphExport.xls\"\n",
    "file_esp = \"sp-500-eps-est.xlsx\"\n",
    "file_MA = \"sp-500-market-attributes-web-file.xlsx\"\n",
    "\n",
    "health_care_19_20 = pd.read_excel(dir_SP + file_HC, skiprows=rows_to_skip, skipfooter=4)\n",
    "industrials_19_20 = pd.read_excel(dir_SP + file_IN, skiprows=rows_to_skip, skipfooter=4)\n",
    "financials_19_20 = pd.read_excel(dir_SP + file_FN, skiprows=rows_to_skip, skipfooter=4)\n",
    "esp_est = pd.read_excel(dir_SP + file_esp)\n",
    "market_attr_web = pd.read_excel(dir_SP + file_MA)\n"
   ]
  },
  {
   "cell_type": "code",
   "execution_count": 7,
   "metadata": {},
   "outputs": [
    {
     "data": {
      "text/plain": [
       "Effective date                  datetime64[ns]\n",
       "S&P 500 Health Care (Sector)           float64\n",
       "dtype: object"
      ]
     },
     "execution_count": 7,
     "metadata": {},
     "output_type": "execute_result"
    }
   ],
   "source": [
    "# health_care_19_20.head()\n",
    "health_care_19_20.dtypes"
   ]
  },
  {
   "cell_type": "code",
   "execution_count": 8,
   "metadata": {},
   "outputs": [
    {
     "data": {
      "text/plain": [
       "Effective date                  datetime64[ns]\n",
       "S&P 500 Industrials (Sector)           float64\n",
       "dtype: object"
      ]
     },
     "execution_count": 8,
     "metadata": {},
     "output_type": "execute_result"
    }
   ],
   "source": [
    "# industrials_19_20.head()\n",
    "industrials_19_20.dtypes"
   ]
  },
  {
   "cell_type": "code",
   "execution_count": 9,
   "metadata": {},
   "outputs": [
    {
     "data": {
      "text/plain": [
       "Effective date                 datetime64[ns]\n",
       "S&P 500 Financials (Sector)           float64\n",
       "dtype: object"
      ]
     },
     "execution_count": 9,
     "metadata": {},
     "output_type": "execute_result"
    }
   ],
   "source": [
    "# financials_19_20.head()\n",
    "financials_19_20.dtypes"
   ]
  },
  {
   "cell_type": "code",
   "execution_count": 10,
   "metadata": {},
   "outputs": [],
   "source": [
    "def find_num_nans(df, string):\n",
    "    s1 = df.loc[(df[string].isna())]\n",
    "    return s1.shape[0]"
   ]
  },
  {
   "cell_type": "code",
   "execution_count": 11,
   "metadata": {},
   "outputs": [
    {
     "name": "stdout",
     "output_type": "stream",
     "text": [
      "Checking : gspc_df - Date\n",
      "0\n",
      "Checking : gspc_df - Open\n",
      "0\n",
      "Checking : gspc_df - High\n",
      "0\n",
      "Checking : gspc_df - Low\n",
      "0\n",
      "Checking : gspc_df - Close\n",
      "0\n",
      "Checking : gspc_df - Adj Close\n",
      "0\n",
      "Checking : gspc_df - Volume\n",
      "0\n"
     ]
    }
   ],
   "source": [
    "for column in gspc_df:\n",
    "    print(\"Checking : gspc_df -\", column)\n",
    "    print(find_num_nans(gspc_df, column))"
   ]
  },
  {
   "cell_type": "code",
   "execution_count": 12,
   "metadata": {},
   "outputs": [
    {
     "name": "stdout",
     "output_type": "stream",
     "text": [
      "Checking : clf_df - Date\n",
      "0\n",
      "Checking : clf_df - Open\n",
      "0\n",
      "Checking : clf_df - High\n",
      "0\n",
      "Checking : clf_df - Low\n",
      "0\n",
      "Checking : clf_df - Close\n",
      "0\n",
      "Checking : clf_df - Adj Close\n",
      "0\n",
      "Checking : clf_df - Volume\n",
      "0\n"
     ]
    }
   ],
   "source": [
    "for column in clf_df:\n",
    "    print(\"Checking : clf_df -\", column)\n",
    "    print(find_num_nans(clf_df, column))"
   ]
  },
  {
   "cell_type": "code",
   "execution_count": 13,
   "metadata": {},
   "outputs": [
    {
     "name": "stdout",
     "output_type": "stream",
     "text": [
      "Checking : gcf_df - Date\n",
      "0\n",
      "Checking : gcf_df - Open\n",
      "0\n",
      "Checking : gcf_df - High\n",
      "0\n",
      "Checking : gcf_df - Low\n",
      "0\n",
      "Checking : gcf_df - Close\n",
      "0\n",
      "Checking : gcf_df - Adj Close\n",
      "0\n",
      "Checking : gcf_df - Volume\n",
      "0\n"
     ]
    }
   ],
   "source": [
    "for column in gcf_df:\n",
    "    print(\"Checking : gcf_df -\", column)\n",
    "    print(find_num_nans(gcf_df, column))"
   ]
  },
  {
   "cell_type": "code",
   "execution_count": 14,
   "metadata": {},
   "outputs": [
    {
     "name": "stdout",
     "output_type": "stream",
     "text": [
      "Checking : health_care_19_20 - Effective date \n",
      "0\n",
      "Checking : health_care_19_20 - S&P 500 Health Care (Sector)\n",
      "0\n"
     ]
    }
   ],
   "source": [
    "for column in health_care_19_20:\n",
    "    print(\"Checking : health_care_19_20 -\", column)\n",
    "    print(find_num_nans(health_care_19_20, column))"
   ]
  },
  {
   "cell_type": "code",
   "execution_count": 15,
   "metadata": {},
   "outputs": [
    {
     "name": "stdout",
     "output_type": "stream",
     "text": [
      "Checking : industrials_19_20 - Effective date \n",
      "0\n",
      "Checking : industrials_19_20 - S&P 500 Industrials (Sector)\n",
      "0\n"
     ]
    }
   ],
   "source": [
    "for column in industrials_19_20:\n",
    "    print(\"Checking : industrials_19_20 -\", column)\n",
    "    print(find_num_nans(industrials_19_20, column))"
   ]
  },
  {
   "cell_type": "code",
   "execution_count": 16,
   "metadata": {},
   "outputs": [
    {
     "name": "stdout",
     "output_type": "stream",
     "text": [
      "Checking : financials_19_20 -  Effective date \n",
      "0\n",
      "Checking : financials_19_20 -  S&P 500 Financials (Sector)\n",
      "0\n"
     ]
    }
   ],
   "source": [
    "for column in financials_19_20:\n",
    "    print(\"Checking : financials_19_20 - \", column)\n",
    "    print(find_num_nans(financials_19_20, column))"
   ]
  },
  {
   "cell_type": "code",
   "execution_count": null,
   "metadata": {},
   "outputs": [],
   "source": []
  }
 ],
 "metadata": {
  "kernelspec": {
   "display_name": "Python 3",
   "language": "python",
   "name": "python3"
  },
  "language_info": {
   "codemirror_mode": {
    "name": "ipython",
    "version": 3
   },
   "file_extension": ".py",
   "mimetype": "text/x-python",
   "name": "python",
   "nbconvert_exporter": "python",
   "pygments_lexer": "ipython3",
   "version": "3.8.5"
  }
 },
 "nbformat": 4,
 "nbformat_minor": 4
}
