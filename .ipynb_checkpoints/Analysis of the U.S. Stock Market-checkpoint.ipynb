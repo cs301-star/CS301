{
 "cells": [
  {
   "cell_type": "markdown",
   "metadata": {},
   "source": [
    "# Analysis of the U.S. Stock Market during Health Crises\n",
    "Jupyter Notebook\n",
    "\n",
    "Authors:\n",
    "Kush Patel, \n",
    "Katherine Thai, \n",
    "Jonathan Perez, \n",
    "Ron Nathaniel, \n",
    "Justin Molina, \n",
    "Dhrumil Rana, "
   ]
  },
  {
   "cell_type": "code",
   "execution_count": 1,
   "metadata": {},
   "outputs": [],
   "source": [
    "# Necessary imports\n",
    "\n",
    "import pandas as pd\n",
    "import numpy as np \n",
    "import os.path as path\n",
    "from datetime import datetime"
   ]
  },
  {
   "cell_type": "code",
   "execution_count": 2,
   "metadata": {},
   "outputs": [],
   "source": [
    "# Opening CSV files into Pandas DataFrames\n",
    "\n",
    "dir_data = 'data'\n",
    "file_spy = 'spy.csv'\n",
    "file_co = 'crude-oil.csv'\n",
    "file_gold = 'gold.csv'\n",
    "\n",
    "spy_df = pd.read_csv(path.join(dir_data, file_spy))\n",
    "clf_df = pd.read_csv(path.join(dir_data, file_co))\n",
    "gold_df = pd.read_csv(path.join(dir_data, file_gold))\n",
    "\n",
    "# Fixing date type/format \n",
    "spy_df['Date'] = pd.to_datetime(spy_df.Date, format='%m/%d/%Y')\n",
    "clf_df['Date'] = pd.to_datetime(clf_df.Date, format='%m/%d/%Y')\n",
    "gold_df['Date'] = pd.to_datetime(gold_df.Date, format='%m/%d/%Y')"
   ]
  },
  {
   "cell_type": "code",
   "execution_count": 3,
   "metadata": {},
   "outputs": [
    {
     "data": {
      "text/plain": [
       "Date         datetime64[ns]\n",
       "Open                float64\n",
       "High                float64\n",
       "Low                 float64\n",
       "Close               float64\n",
       "Adj Close           float64\n",
       "Volume              float64\n",
       "dtype: object"
      ]
     },
     "execution_count": 3,
     "metadata": {},
     "output_type": "execute_result"
    }
   ],
   "source": [
    "# spy_df.head()\n",
    "spy_df.dtypes"
   ]
  },
  {
   "cell_type": "code",
   "execution_count": 4,
   "metadata": {},
   "outputs": [
    {
     "data": {
      "text/plain": [
       "Date         datetime64[ns]\n",
       "Open                float64\n",
       "High                float64\n",
       "Low                 float64\n",
       "Close               float64\n",
       "Adj Close           float64\n",
       "Volume                int64\n",
       "dtype: object"
      ]
     },
     "execution_count": 4,
     "metadata": {},
     "output_type": "execute_result"
    }
   ],
   "source": [
    "# clf_df.head()\n",
    "clf_df.dtypes"
   ]
  },
  {
   "cell_type": "code",
   "execution_count": 5,
   "metadata": {},
   "outputs": [
    {
     "data": {
      "text/plain": [
       "Date         datetime64[ns]\n",
       "Open                float64\n",
       "High                float64\n",
       "Low                 float64\n",
       "Close               float64\n",
       "Adj Close           float64\n",
       "Volume                int64\n",
       "dtype: object"
      ]
     },
     "execution_count": 5,
     "metadata": {},
     "output_type": "execute_result"
    }
   ],
   "source": [
    "# gold_df.head()\n",
    "gold_df.dtypes"
   ]
  },
  {
   "cell_type": "code",
   "execution_count": 6,
   "metadata": {},
   "outputs": [],
   "source": [
    "# skipping the headers of each file\n",
    "rows_to_skip = list(range(0, 6))\n",
    "\n",
    "dir_sectors = 'data/spy-sectors'\n",
    "\n",
    "file_HC = 'healthcare.xls'\n",
    "file_IN = 'industrials.xls'\n",
    "file_FN = 'financials.xls'\n",
    "file_EPS = 'eps-estimate.xlsx'\n",
    "file_MA = 'market-attributes.xlsx'\n",
    "\n",
    "# skipping the extra footer of each file\n",
    "healthcare_19_20 = pd.read_excel(path.join(dir_sectors, file_HC), skiprows=rows_to_skip, skipfooter=4)\n",
    "industrials_19_20 = pd.read_excel(path.join(dir_sectors, file_IN), skiprows=rows_to_skip, skipfooter=4)\n",
    "financials_19_20 = pd.read_excel(path.join(dir_sectors, file_FN), skiprows=rows_to_skip, skipfooter=4)\n",
    "eps_est = pd.read_excel(path.join(dir_sectors, file_EPS))\n",
    "market_attr = pd.read_excel(path.join(dir_sectors, file_MA))"
   ]
  },
  {
   "cell_type": "code",
   "execution_count": 7,
   "metadata": {},
   "outputs": [
    {
     "data": {
      "text/plain": [
       "Effective date                  datetime64[ns]\n",
       "S&P 500 Health Care (Sector)           float64\n",
       "dtype: object"
      ]
     },
     "execution_count": 7,
     "metadata": {},
     "output_type": "execute_result"
    }
   ],
   "source": [
    "# healthcare_19_20.head()\n",
    "healthcare_19_20.dtypes"
   ]
  },
  {
   "cell_type": "code",
   "execution_count": 8,
   "metadata": {},
   "outputs": [
    {
     "data": {
      "text/plain": [
       "Effective date                  datetime64[ns]\n",
       "S&P 500 Industrials (Sector)           float64\n",
       "dtype: object"
      ]
     },
     "execution_count": 8,
     "metadata": {},
     "output_type": "execute_result"
    }
   ],
   "source": [
    "# industrials_19_20.head()\n",
    "industrials_19_20.dtypes"
   ]
  },
  {
   "cell_type": "code",
   "execution_count": 9,
   "metadata": {},
   "outputs": [
    {
     "data": {
      "text/plain": [
       "Effective date                 datetime64[ns]\n",
       "S&P 500 Financials (Sector)           float64\n",
       "dtype: object"
      ]
     },
     "execution_count": 9,
     "metadata": {},
     "output_type": "execute_result"
    }
   ],
   "source": [
    "# financials_19_20.head()\n",
    "financials_19_20.dtypes"
   ]
  },
  {
   "cell_type": "code",
   "execution_count": 10,
   "metadata": {},
   "outputs": [],
   "source": [
    "# finding empty entries with isna\n",
    "\n",
    "def find_num_nans(df, string):\n",
    "    s1 = df.loc[(df[string].isna())]\n",
    "    return s1.shape[0]"
   ]
  },
  {
   "cell_type": "code",
   "execution_count": 11,
   "metadata": {},
   "outputs": [
    {
     "name": "stdout",
     "output_type": "stream",
     "text": [
      "Checking : spy_df - Date\n",
      "0\n",
      "Checking : spy_df - Open\n",
      "0\n",
      "Checking : spy_df - High\n",
      "0\n",
      "Checking : spy_df - Low\n",
      "0\n",
      "Checking : spy_df - Close\n",
      "0\n",
      "Checking : spy_df - Adj Close\n",
      "0\n",
      "Checking : spy_df - Volume\n",
      "0\n"
     ]
    }
   ],
   "source": [
    "# printing num of empty in spy_df\n",
    "for column in spy_df:\n",
    "    print(\"Checking : spy_df -\", column)\n",
    "    print(find_num_nans(spy_df, column))"
   ]
  },
  {
   "cell_type": "code",
   "execution_count": 12,
   "metadata": {},
   "outputs": [
    {
     "name": "stdout",
     "output_type": "stream",
     "text": [
      "Checking : clf_df - Date\n",
      "0\n",
      "Checking : clf_df - Open\n",
      "0\n",
      "Checking : clf_df - High\n",
      "0\n",
      "Checking : clf_df - Low\n",
      "0\n",
      "Checking : clf_df - Close\n",
      "0\n",
      "Checking : clf_df - Adj Close\n",
      "0\n",
      "Checking : clf_df - Volume\n",
      "0\n"
     ]
    }
   ],
   "source": [
    "# printing num of empty in clf_df\n",
    "for column in clf_df:\n",
    "    print(\"Checking : clf_df -\", column)\n",
    "    print(find_num_nans(clf_df, column))"
   ]
  },
  {
   "cell_type": "code",
   "execution_count": 13,
   "metadata": {},
   "outputs": [
    {
     "name": "stdout",
     "output_type": "stream",
     "text": [
      "Checking : gold_df - Date\n",
      "0\n",
      "Checking : gold_df - Open\n",
      "0\n",
      "Checking : gold_df - High\n",
      "0\n",
      "Checking : gold_df - Low\n",
      "0\n",
      "Checking : gold_df - Close\n",
      "0\n",
      "Checking : gold_df - Adj Close\n",
      "0\n",
      "Checking : gold_df - Volume\n",
      "0\n"
     ]
    }
   ],
   "source": [
    "# printing num of empty in gold_df\n",
    "for column in gold_df:\n",
    "    print(\"Checking : gold_df -\", column)\n",
    "    print(find_num_nans(gold_df, column))"
   ]
  },
  {
   "cell_type": "code",
   "execution_count": 14,
   "metadata": {},
   "outputs": [
    {
     "name": "stdout",
     "output_type": "stream",
     "text": [
      "Checking : healthcare_19_20 - Effective date \n",
      "0\n",
      "Checking : healthcare_19_20 - S&P 500 Health Care (Sector)\n",
      "0\n"
     ]
    }
   ],
   "source": [
    "# printing num of empty in healthcare\n",
    "for column in healthcare_19_20:\n",
    "    print(\"Checking : healthcare_19_20 -\", column)\n",
    "    print(find_num_nans(healthcare_19_20, column))"
   ]
  },
  {
   "cell_type": "code",
   "execution_count": 15,
   "metadata": {},
   "outputs": [
    {
     "name": "stdout",
     "output_type": "stream",
     "text": [
      "Checking : industrials_19_20 - Effective date \n",
      "0\n",
      "Checking : industrials_19_20 - S&P 500 Industrials (Sector)\n",
      "0\n"
     ]
    }
   ],
   "source": [
    "# printing num of empty in industrials\n",
    "for column in industrials_19_20:\n",
    "    print(\"Checking : industrials_19_20 -\", column)\n",
    "    print(find_num_nans(industrials_19_20, column))"
   ]
  },
  {
   "cell_type": "code",
   "execution_count": 16,
   "metadata": {},
   "outputs": [
    {
     "name": "stdout",
     "output_type": "stream",
     "text": [
      "Checking : financials_19_20 -  Effective date \n",
      "0\n",
      "Checking : financials_19_20 -  S&P 500 Financials (Sector)\n",
      "0\n"
     ]
    }
   ],
   "source": [
    "# printing num of empty in financials\n",
    "for column in financials_19_20:\n",
    "    print(\"Checking : financials_19_20 - \", column)\n",
    "    print(find_num_nans(financials_19_20, column))"
   ]
  },
  {
   "cell_type": "code",
   "execution_count": 17,
   "metadata": {},
   "outputs": [],
   "source": [
    "def get_months_mean(dframe, group):\n",
    "    \n",
    "    # Grouping healthcare by year and month\n",
    "    months = dframe.groupby([dframe['Effective date '].dt.year.rename('year'),\n",
    "                   dframe['Effective date '].dt.month_name().rename('month')])\n",
    "    \n",
    "    #  getting mean/average of each month per year\n",
    "    group = months[group].mean().reset_index()\n",
    "    \n",
    "    # Counting how many entries in each month per year\n",
    "    count = months.size().reset_index(name='count')\n",
    "    \n",
    "    return group, count\n"
   ]
  },
  {
   "cell_type": "code",
   "execution_count": null,
   "metadata": {},
   "outputs": [],
   "source": []
  },
  {
   "cell_type": "code",
   "execution_count": 18,
   "metadata": {},
   "outputs": [
    {
     "data": {
      "text/html": [
       "<div>\n",
       "<style scoped>\n",
       "    .dataframe tbody tr th:only-of-type {\n",
       "        vertical-align: middle;\n",
       "    }\n",
       "\n",
       "    .dataframe tbody tr th {\n",
       "        vertical-align: top;\n",
       "    }\n",
       "\n",
       "    .dataframe thead th {\n",
       "        text-align: right;\n",
       "    }\n",
       "</style>\n",
       "<table border=\"1\" class=\"dataframe\">\n",
       "  <thead>\n",
       "    <tr style=\"text-align: right;\">\n",
       "      <th></th>\n",
       "      <th>year</th>\n",
       "      <th>month</th>\n",
       "      <th>S&amp;P 500 Health Care (Sector)</th>\n",
       "      <th>count</th>\n",
       "    </tr>\n",
       "  </thead>\n",
       "  <tbody>\n",
       "    <tr>\n",
       "      <th>0</th>\n",
       "      <td>2019</td>\n",
       "      <td>December</td>\n",
       "      <td>1170.466667</td>\n",
       "      <td>21</td>\n",
       "    </tr>\n",
       "    <tr>\n",
       "      <th>1</th>\n",
       "      <td>2019</td>\n",
       "      <td>November</td>\n",
       "      <td>1116.570500</td>\n",
       "      <td>20</td>\n",
       "    </tr>\n",
       "    <tr>\n",
       "      <th>2</th>\n",
       "      <td>2019</td>\n",
       "      <td>October</td>\n",
       "      <td>1075.335556</td>\n",
       "      <td>9</td>\n",
       "    </tr>\n",
       "    <tr>\n",
       "      <th>3</th>\n",
       "      <td>2020</td>\n",
       "      <td>April</td>\n",
       "      <td>1117.072381</td>\n",
       "      <td>21</td>\n",
       "    </tr>\n",
       "    <tr>\n",
       "      <th>4</th>\n",
       "      <td>2020</td>\n",
       "      <td>August</td>\n",
       "      <td>1243.676667</td>\n",
       "      <td>21</td>\n",
       "    </tr>\n",
       "    <tr>\n",
       "      <th>5</th>\n",
       "      <td>2020</td>\n",
       "      <td>February</td>\n",
       "      <td>1180.347895</td>\n",
       "      <td>19</td>\n",
       "    </tr>\n",
       "    <tr>\n",
       "      <th>6</th>\n",
       "      <td>2020</td>\n",
       "      <td>January</td>\n",
       "      <td>1195.545714</td>\n",
       "      <td>21</td>\n",
       "    </tr>\n",
       "    <tr>\n",
       "      <th>7</th>\n",
       "      <td>2020</td>\n",
       "      <td>July</td>\n",
       "      <td>1212.707727</td>\n",
       "      <td>22</td>\n",
       "    </tr>\n",
       "    <tr>\n",
       "      <th>8</th>\n",
       "      <td>2020</td>\n",
       "      <td>June</td>\n",
       "      <td>1167.524091</td>\n",
       "      <td>22</td>\n",
       "    </tr>\n",
       "    <tr>\n",
       "      <th>9</th>\n",
       "      <td>2020</td>\n",
       "      <td>March</td>\n",
       "      <td>1025.903636</td>\n",
       "      <td>22</td>\n",
       "    </tr>\n",
       "    <tr>\n",
       "      <th>10</th>\n",
       "      <td>2020</td>\n",
       "      <td>May</td>\n",
       "      <td>1162.014000</td>\n",
       "      <td>20</td>\n",
       "    </tr>\n",
       "    <tr>\n",
       "      <th>11</th>\n",
       "      <td>2020</td>\n",
       "      <td>October</td>\n",
       "      <td>1244.224000</td>\n",
       "      <td>15</td>\n",
       "    </tr>\n",
       "    <tr>\n",
       "      <th>12</th>\n",
       "      <td>2020</td>\n",
       "      <td>September</td>\n",
       "      <td>1220.980952</td>\n",
       "      <td>21</td>\n",
       "    </tr>\n",
       "  </tbody>\n",
       "</table>\n",
       "</div>"
      ],
      "text/plain": [
       "    year      month  S&P 500 Health Care (Sector)  count\n",
       "0   2019   December                   1170.466667     21\n",
       "1   2019   November                   1116.570500     20\n",
       "2   2019    October                   1075.335556      9\n",
       "3   2020      April                   1117.072381     21\n",
       "4   2020     August                   1243.676667     21\n",
       "5   2020   February                   1180.347895     19\n",
       "6   2020    January                   1195.545714     21\n",
       "7   2020       July                   1212.707727     22\n",
       "8   2020       June                   1167.524091     22\n",
       "9   2020      March                   1025.903636     22\n",
       "10  2020        May                   1162.014000     20\n",
       "11  2020    October                   1244.224000     15\n",
       "12  2020  September                   1220.980952     21"
      ]
     },
     "execution_count": 18,
     "metadata": {},
     "output_type": "execute_result"
    }
   ],
   "source": [
    "HC_19_20_months, count = get_months_mean(healthcare_19_20, 'S&P 500 Health Care (Sector)')\n",
    "\n",
    "HC_19_20_months['count'] = count['count']\n",
    "HC_19_20_months"
   ]
  },
  {
   "cell_type": "code",
   "execution_count": 19,
   "metadata": {},
   "outputs": [
    {
     "data": {
      "text/html": [
       "<div>\n",
       "<style scoped>\n",
       "    .dataframe tbody tr th:only-of-type {\n",
       "        vertical-align: middle;\n",
       "    }\n",
       "\n",
       "    .dataframe tbody tr th {\n",
       "        vertical-align: top;\n",
       "    }\n",
       "\n",
       "    .dataframe thead th {\n",
       "        text-align: right;\n",
       "    }\n",
       "</style>\n",
       "<table border=\"1\" class=\"dataframe\">\n",
       "  <thead>\n",
       "    <tr style=\"text-align: right;\">\n",
       "      <th></th>\n",
       "      <th>year</th>\n",
       "      <th>month</th>\n",
       "      <th>S&amp;P 500 Industrials (Sector)</th>\n",
       "      <th>count</th>\n",
       "    </tr>\n",
       "  </thead>\n",
       "  <tbody>\n",
       "    <tr>\n",
       "      <th>0</th>\n",
       "      <td>2019</td>\n",
       "      <td>December</td>\n",
       "      <td>683.481429</td>\n",
       "      <td>21</td>\n",
       "    </tr>\n",
       "    <tr>\n",
       "      <th>1</th>\n",
       "      <td>2019</td>\n",
       "      <td>November</td>\n",
       "      <td>687.504000</td>\n",
       "      <td>20</td>\n",
       "    </tr>\n",
       "    <tr>\n",
       "      <th>2</th>\n",
       "      <td>2019</td>\n",
       "      <td>October</td>\n",
       "      <td>661.018889</td>\n",
       "      <td>9</td>\n",
       "    </tr>\n",
       "    <tr>\n",
       "      <th>3</th>\n",
       "      <td>2020</td>\n",
       "      <td>April</td>\n",
       "      <td>517.352857</td>\n",
       "      <td>21</td>\n",
       "    </tr>\n",
       "    <tr>\n",
       "      <th>4</th>\n",
       "      <td>2020</td>\n",
       "      <td>August</td>\n",
       "      <td>644.875714</td>\n",
       "      <td>21</td>\n",
       "    </tr>\n",
       "    <tr>\n",
       "      <th>5</th>\n",
       "      <td>2020</td>\n",
       "      <td>February</td>\n",
       "      <td>691.087895</td>\n",
       "      <td>19</td>\n",
       "    </tr>\n",
       "    <tr>\n",
       "      <th>6</th>\n",
       "      <td>2020</td>\n",
       "      <td>January</td>\n",
       "      <td>701.021905</td>\n",
       "      <td>21</td>\n",
       "    </tr>\n",
       "    <tr>\n",
       "      <th>7</th>\n",
       "      <td>2020</td>\n",
       "      <td>July</td>\n",
       "      <td>596.539091</td>\n",
       "      <td>22</td>\n",
       "    </tr>\n",
       "    <tr>\n",
       "      <th>8</th>\n",
       "      <td>2020</td>\n",
       "      <td>June</td>\n",
       "      <td>590.113636</td>\n",
       "      <td>22</td>\n",
       "    </tr>\n",
       "    <tr>\n",
       "      <th>9</th>\n",
       "      <td>2020</td>\n",
       "      <td>March</td>\n",
       "      <td>523.017727</td>\n",
       "      <td>22</td>\n",
       "    </tr>\n",
       "    <tr>\n",
       "      <th>10</th>\n",
       "      <td>2020</td>\n",
       "      <td>May</td>\n",
       "      <td>531.836000</td>\n",
       "      <td>20</td>\n",
       "    </tr>\n",
       "    <tr>\n",
       "      <th>11</th>\n",
       "      <td>2020</td>\n",
       "      <td>October</td>\n",
       "      <td>675.270000</td>\n",
       "      <td>15</td>\n",
       "    </tr>\n",
       "    <tr>\n",
       "      <th>12</th>\n",
       "      <td>2020</td>\n",
       "      <td>September</td>\n",
       "      <td>654.354286</td>\n",
       "      <td>21</td>\n",
       "    </tr>\n",
       "  </tbody>\n",
       "</table>\n",
       "</div>"
      ],
      "text/plain": [
       "    year      month  S&P 500 Industrials (Sector)  count\n",
       "0   2019   December                    683.481429     21\n",
       "1   2019   November                    687.504000     20\n",
       "2   2019    October                    661.018889      9\n",
       "3   2020      April                    517.352857     21\n",
       "4   2020     August                    644.875714     21\n",
       "5   2020   February                    691.087895     19\n",
       "6   2020    January                    701.021905     21\n",
       "7   2020       July                    596.539091     22\n",
       "8   2020       June                    590.113636     22\n",
       "9   2020      March                    523.017727     22\n",
       "10  2020        May                    531.836000     20\n",
       "11  2020    October                    675.270000     15\n",
       "12  2020  September                    654.354286     21"
      ]
     },
     "execution_count": 19,
     "metadata": {},
     "output_type": "execute_result"
    }
   ],
   "source": [
    "ID_19_20_months, count = get_months_mean(industrials_19_20, 'S&P 500 Industrials (Sector)')\n",
    "\n",
    "ID_19_20_months['count'] = count['count']\n",
    "ID_19_20_months"
   ]
  },
  {
   "cell_type": "code",
   "execution_count": 20,
   "metadata": {},
   "outputs": [
    {
     "data": {
      "text/html": [
       "<div>\n",
       "<style scoped>\n",
       "    .dataframe tbody tr th:only-of-type {\n",
       "        vertical-align: middle;\n",
       "    }\n",
       "\n",
       "    .dataframe tbody tr th {\n",
       "        vertical-align: top;\n",
       "    }\n",
       "\n",
       "    .dataframe thead th {\n",
       "        text-align: right;\n",
       "    }\n",
       "</style>\n",
       "<table border=\"1\" class=\"dataframe\">\n",
       "  <thead>\n",
       "    <tr style=\"text-align: right;\">\n",
       "      <th></th>\n",
       "      <th>year</th>\n",
       "      <th>month</th>\n",
       "      <th>S&amp;P 500 Financials (Sector)</th>\n",
       "      <th>count</th>\n",
       "    </tr>\n",
       "  </thead>\n",
       "  <tbody>\n",
       "    <tr>\n",
       "      <th>0</th>\n",
       "      <td>2019</td>\n",
       "      <td>December</td>\n",
       "      <td>505.415238</td>\n",
       "      <td>21</td>\n",
       "    </tr>\n",
       "    <tr>\n",
       "      <th>1</th>\n",
       "      <td>2019</td>\n",
       "      <td>November</td>\n",
       "      <td>493.221000</td>\n",
       "      <td>20</td>\n",
       "    </tr>\n",
       "    <tr>\n",
       "      <th>2</th>\n",
       "      <td>2019</td>\n",
       "      <td>October</td>\n",
       "      <td>475.448889</td>\n",
       "      <td>9</td>\n",
       "    </tr>\n",
       "    <tr>\n",
       "      <th>3</th>\n",
       "      <td>2020</td>\n",
       "      <td>April</td>\n",
       "      <td>361.561429</td>\n",
       "      <td>21</td>\n",
       "    </tr>\n",
       "    <tr>\n",
       "      <th>4</th>\n",
       "      <td>2020</td>\n",
       "      <td>August</td>\n",
       "      <td>411.053810</td>\n",
       "      <td>21</td>\n",
       "    </tr>\n",
       "    <tr>\n",
       "      <th>5</th>\n",
       "      <td>2020</td>\n",
       "      <td>February</td>\n",
       "      <td>500.585789</td>\n",
       "      <td>19</td>\n",
       "    </tr>\n",
       "    <tr>\n",
       "      <th>6</th>\n",
       "      <td>2020</td>\n",
       "      <td>January</td>\n",
       "      <td>508.602857</td>\n",
       "      <td>21</td>\n",
       "    </tr>\n",
       "    <tr>\n",
       "      <th>7</th>\n",
       "      <td>2020</td>\n",
       "      <td>July</td>\n",
       "      <td>394.775000</td>\n",
       "      <td>22</td>\n",
       "    </tr>\n",
       "    <tr>\n",
       "      <th>8</th>\n",
       "      <td>2020</td>\n",
       "      <td>June</td>\n",
       "      <td>401.248182</td>\n",
       "      <td>22</td>\n",
       "    </tr>\n",
       "    <tr>\n",
       "      <th>9</th>\n",
       "      <td>2020</td>\n",
       "      <td>March</td>\n",
       "      <td>368.297273</td>\n",
       "      <td>22</td>\n",
       "    </tr>\n",
       "    <tr>\n",
       "      <th>10</th>\n",
       "      <td>2020</td>\n",
       "      <td>May</td>\n",
       "      <td>365.592000</td>\n",
       "      <td>20</td>\n",
       "    </tr>\n",
       "    <tr>\n",
       "      <th>11</th>\n",
       "      <td>2020</td>\n",
       "      <td>October</td>\n",
       "      <td>412.360667</td>\n",
       "      <td>15</td>\n",
       "    </tr>\n",
       "    <tr>\n",
       "      <th>12</th>\n",
       "      <td>2020</td>\n",
       "      <td>September</td>\n",
       "      <td>405.641905</td>\n",
       "      <td>21</td>\n",
       "    </tr>\n",
       "  </tbody>\n",
       "</table>\n",
       "</div>"
      ],
      "text/plain": [
       "    year      month  S&P 500 Financials (Sector)  count\n",
       "0   2019   December                   505.415238     21\n",
       "1   2019   November                   493.221000     20\n",
       "2   2019    October                   475.448889      9\n",
       "3   2020      April                   361.561429     21\n",
       "4   2020     August                   411.053810     21\n",
       "5   2020   February                   500.585789     19\n",
       "6   2020    January                   508.602857     21\n",
       "7   2020       July                   394.775000     22\n",
       "8   2020       June                   401.248182     22\n",
       "9   2020      March                   368.297273     22\n",
       "10  2020        May                   365.592000     20\n",
       "11  2020    October                   412.360667     15\n",
       "12  2020  September                   405.641905     21"
      ]
     },
     "execution_count": 20,
     "metadata": {},
     "output_type": "execute_result"
    }
   ],
   "source": [
    "FI_19_20_months, count = get_months_mean(financials_19_20, 'S&P 500 Financials (Sector)')\n",
    "\n",
    "FI_19_20_months['count'] = count['count']\n",
    "FI_19_20_months"
   ]
  },
  {
   "cell_type": "code",
   "execution_count": 21,
   "metadata": {},
   "outputs": [],
   "source": [
    "# Adding count column based on year  \n",
    "\n",
    "# spy_years = spy_df.groupby([spy_df['Date'].dt.year.rename('year')]).size().reset_index(name='count')\n",
    "# spy_years"
   ]
  },
  {
   "cell_type": "code",
   "execution_count": 22,
   "metadata": {},
   "outputs": [],
   "source": [
    "# Adding count column based on year \n",
    "\n",
    "# clf_years = clf_df.groupby([clf_df['Date'].dt.year.rename('year')]).size().reset_index(name='count')\n",
    "# clf_years"
   ]
  },
  {
   "cell_type": "code",
   "execution_count": 23,
   "metadata": {},
   "outputs": [],
   "source": [
    "# Adding count column based on year \n",
    "\n",
    "# gold_years = gold_df.groupby([gold_df['Date'].dt.year.rename('year')]).size().reset_index(name='count')\n",
    "# gold_years"
   ]
  },
  {
   "cell_type": "code",
   "execution_count": 24,
   "metadata": {},
   "outputs": [],
   "source": [
    "# Finding sum of Close price per year \n",
    "\n",
    "# spy_grouped = spy_df.groupby([spy_df['Date'].dt.year.rename('year')])['Close'].sum().reset_index(name='Sum')\n",
    "# spy_grouped"
   ]
  },
  {
   "cell_type": "code",
   "execution_count": 25,
   "metadata": {},
   "outputs": [],
   "source": [
    "# Function to find quantiles of given column/data and outliers\n",
    "def find_quantiles(df, string):\n",
    "    q25 = df[string].quantile(0.25)\n",
    "    q25 = q25.round(2)\n",
    "    q50 = df[string].quantile(0.50)\n",
    "    q50 = q50.round(2)\n",
    "    q75 = df[string].quantile(0.75)\n",
    "    q75 = q75.round(2)\n",
    "    \n",
    "    diff = (q75-q25).round(2)\n",
    "    sample_min = round(df[string].min(),2)\n",
    "    sample_max = round(df[string].max(),2)\n",
    "    \n",
    "    outlier = df.loc[(df[string] < q25 - (1.5 * diff)) | (df[string] > q75 + (1.5* diff))]\n",
    "    print('There upper and lower quantile of the {} price are ${}, ${} respectively'.format(string, q25, q75))\n",
    "    print('Range of prices in {} is (${}, ${})'.format(string, sample_min, sample_max))\n",
    "    print ('There are {} outliers in {}\\n'.format(outlier.shape[0], string))\n",
    "#     if(outlier.shape[0] > 0):\n",
    "#         print(outlier.head(outlier.shape[0]))"
   ]
  },
  {
   "cell_type": "code",
   "execution_count": 26,
   "metadata": {},
   "outputs": [
    {
     "name": "stdout",
     "output_type": "stream",
     "text": [
      "There upper and lower quantile of the Low price are $1146.18, $2056.32 respectively\n",
      "Range of prices in Low is ($666.79, $3284.53)\n",
      "There are 0 outliers in Low\n",
      "\n",
      "There upper and lower quantile of the High price are $1219.59, $2132.82 respectively\n",
      "Range of prices in High is ($832.98, $3645.99)\n",
      "There are 4 outliers in High\n",
      "\n",
      "There upper and lower quantile of the Close price are $1183.26, $2104.5 respectively\n",
      "Range of prices in Close is ($735.09, $3572.66)\n",
      "There are 2 outliers in Close\n",
      "\n",
      "There upper and lower quantile of the Adj Close price are $1183.26, $2104.5 respectively\n",
      "Range of prices in Adj Close is ($735.09, $3572.66)\n",
      "There are 2 outliers in Adj Close\n",
      "\n",
      "There upper and lower quantile of the Volume price are $57809700000.0, $85738250000.0 respectively\n",
      "Range of prices in Volume is ($24463220000.0, $161844000000.0)\n",
      "There are 8 outliers in Volume\n",
      "\n"
     ]
    }
   ],
   "source": [
    "# quantiles and outliers spy_df\n",
    "\n",
    "find_quantiles(spy_df,'Low')\n",
    "find_quantiles(spy_df,'High')\n",
    "find_quantiles(spy_df,'Close')\n",
    "find_quantiles(spy_df,'Adj Close')\n",
    "find_quantiles(spy_df,'Volume')"
   ]
  },
  {
   "cell_type": "code",
   "execution_count": 27,
   "metadata": {},
   "outputs": [
    {
     "name": "stdout",
     "output_type": "stream",
     "text": [
      "There upper and lower quantile of the Low price are $43.03, $80.06 respectively\n",
      "Range of prices in Low is ($-40.32, $121.61)\n",
      "There are 1 outliers in Low\n",
      "\n",
      "There upper and lower quantile of the High price are $51.93, $92.84 respectively\n",
      "Range of prices in High is ($27.56, $147.27)\n",
      "There are 0 outliers in High\n",
      "\n",
      "There upper and lower quantile of the Close price are $48.32, $86.53 respectively\n",
      "Range of prices in Close is ($18.84, $140.0)\n",
      "There are 0 outliers in Close\n",
      "\n",
      "There upper and lower quantile of the Adj Close price are $48.32, $86.53 respectively\n",
      "Range of prices in Adj Close is ($18.84, $140.0)\n",
      "There are 0 outliers in Adj Close\n",
      "\n",
      "There upper and lower quantile of the Volume price are $4226621.0, $10863962.0 respectively\n",
      "Range of prices in Volume is ($1516421, $5773389341)\n",
      "There are 21 outliers in Volume\n",
      "\n"
     ]
    }
   ],
   "source": [
    "# quantiles and outliers of clf_df\n",
    "\n",
    "find_quantiles(clf_df,'Low')\n",
    "find_quantiles(clf_df,'High')\n",
    "find_quantiles(clf_df,'Close')\n",
    "find_quantiles(clf_df,'Adj Close')\n",
    "find_quantiles(clf_df,'Volume')"
   ]
  },
  {
   "cell_type": "code",
   "execution_count": 28,
   "metadata": {},
   "outputs": [
    {
     "name": "stdout",
     "output_type": "stream",
     "text": [
      "There upper and lower quantile of the Low price are $642.9, $1302.3 respectively\n",
      "Range of prices in Low is ($315.5, $1871.6)\n",
      "There are 0 outliers in Low\n",
      "\n",
      "There upper and lower quantile of the High price are $687.7, $1374.9 respectively\n",
      "Range of prices in High is ($324.5, $2063.0)\n",
      "There are 0 outliers in High\n",
      "\n",
      "There upper and lower quantile of the Close price are $666.9, $1323.6 respectively\n",
      "Range of prices in Close is ($316.8, $1967.6)\n",
      "There are 0 outliers in Close\n",
      "\n",
      "There upper and lower quantile of the Adj Close price are $666.9, $1323.6 respectively\n",
      "Range of prices in Adj Close is ($316.8, $1967.6)\n",
      "There are 0 outliers in Adj Close\n",
      "\n",
      "There upper and lower quantile of the Volume price are $9599.0, $258615.0 respectively\n",
      "Range of prices in Volume is ($2106, $4211534342)\n",
      "There are 35 outliers in Volume\n",
      "\n"
     ]
    }
   ],
   "source": [
    "# quantiles and outliers of gold_df\n",
    "\n",
    "find_quantiles(gold_df,'Low')\n",
    "find_quantiles(gold_df,'High')\n",
    "find_quantiles(gold_df,'Close')\n",
    "find_quantiles(gold_df,'Adj Close')\n",
    "find_quantiles(gold_df,'Volume')"
   ]
  },
  {
   "cell_type": "code",
   "execution_count": 29,
   "metadata": {},
   "outputs": [
    {
     "name": "stdout",
     "output_type": "stream",
     "text": [
      "There upper and lower quantile of the S&P 500 Health Care (Sector) price are $1136.78, $1215.68 respectively\n",
      "Range of prices in S&P 500 Health Care (Sector) is ($870.99, $1273.61)\n",
      "There are 13 outliers in S&P 500 Health Care (Sector)\n",
      "\n"
     ]
    }
   ],
   "source": [
    "# quantiles and outliers of healthcare_19-20\n",
    "\n",
    "column_list = list(healthcare_19_20.columns)\n",
    "find_quantiles(healthcare_19_20,column_list[1])\n"
   ]
  },
  {
   "cell_type": "code",
   "execution_count": 30,
   "metadata": {},
   "outputs": [
    {
     "name": "stdout",
     "output_type": "stream",
     "text": [
      "There upper and lower quantile of the S&P 500 Industrials (Sector) price are $577.13, $684.56 respectively\n",
      "Range of prices in S&P 500 Industrials (Sector) is ($412.06, $718.21)\n",
      "There are 1 outliers in S&P 500 Industrials (Sector)\n",
      "\n"
     ]
    }
   ],
   "source": [
    "# quantiles and outliers of industrials_19-20\n",
    "\n",
    "column_list = list(industrials_19_20.columns)\n",
    "find_quantiles(industrials_19_20,column_list[1])\n"
   ]
  },
  {
   "cell_type": "code",
   "execution_count": 31,
   "metadata": {},
   "outputs": [
    {
     "name": "stdout",
     "output_type": "stream",
     "text": [
      "There upper and lower quantile of the S&P 500 Financials (Sector) price are $387.11, $493.81 respectively\n",
      "Range of prices in S&P 500 Financials (Sector) is ($293.55, $516.21)\n",
      "There are 0 outliers in S&P 500 Financials (Sector)\n",
      "\n"
     ]
    }
   ],
   "source": [
    "# quantiles and outliers of financials_19-20\n",
    "\n",
    "column_list = list(financials_19_20.columns)\n",
    "find_quantiles(financials_19_20,column_list[1])"
   ]
  },
  {
   "cell_type": "code",
   "execution_count": 32,
   "metadata": {},
   "outputs": [],
   "source": [
    "def timestamp_to_datetime(date: pd.Timestamp) -> datetime:\n",
    "    return date.to_pydatetime\n",
    "def datetime_to_timestamp(date: datetime) -> pd.Timestamp:\n",
    "    return pd.Timestamp(date)\n",
    "def dynamic_timestamp(year=0, month=0, day=0, hour=0, minute=0, second=0) -> pd.Timestamp:\n",
    "    return datetime_to_timestamp(datetime(year, month, day, hour, minute, second))\n",
    "\n",
    "# SHOW RANGE TO PRINT GRAPH IN INTERVALS EASILY\n",
    "def show_range(df: pd.DataFrame, col: str, start_time_t, end_time_t) -> pd.DataFrame:\n",
    "    return df.loc[ (start_time_t < df[col]) & (df[col] < end_time_t)]"
   ]
  },
  {
   "cell_type": "code",
   "execution_count": 33,
   "metadata": {},
   "outputs": [
    {
     "data": {
      "text/html": [
       "<div>\n",
       "<style scoped>\n",
       "    .dataframe tbody tr th:only-of-type {\n",
       "        vertical-align: middle;\n",
       "    }\n",
       "\n",
       "    .dataframe tbody tr th {\n",
       "        vertical-align: top;\n",
       "    }\n",
       "\n",
       "    .dataframe thead th {\n",
       "        text-align: right;\n",
       "    }\n",
       "</style>\n",
       "<table border=\"1\" class=\"dataframe\">\n",
       "  <thead>\n",
       "    <tr style=\"text-align: right;\">\n",
       "      <th></th>\n",
       "      <th>Date</th>\n",
       "      <th>Open</th>\n",
       "      <th>High</th>\n",
       "      <th>Low</th>\n",
       "      <th>Close</th>\n",
       "      <th>Adj Close</th>\n",
       "      <th>Volume</th>\n",
       "    </tr>\n",
       "  </thead>\n",
       "  <tbody>\n",
       "    <tr>\n",
       "      <th>77</th>\n",
       "      <td>2009-04-01</td>\n",
       "      <td>918.599976</td>\n",
       "      <td>932.500000</td>\n",
       "      <td>865.000000</td>\n",
       "      <td>890.700012</td>\n",
       "      <td>890.700012</td>\n",
       "      <td>17300</td>\n",
       "    </tr>\n",
       "    <tr>\n",
       "      <th>78</th>\n",
       "      <td>2009-05-01</td>\n",
       "      <td>884.000000</td>\n",
       "      <td>980.400024</td>\n",
       "      <td>881.500000</td>\n",
       "      <td>978.799988</td>\n",
       "      <td>978.799988</td>\n",
       "      <td>234559</td>\n",
       "    </tr>\n",
       "    <tr>\n",
       "      <th>79</th>\n",
       "      <td>2009-06-01</td>\n",
       "      <td>978.799988</td>\n",
       "      <td>990.299988</td>\n",
       "      <td>917.299988</td>\n",
       "      <td>927.099976</td>\n",
       "      <td>927.099976</td>\n",
       "      <td>12773</td>\n",
       "    </tr>\n",
       "    <tr>\n",
       "      <th>80</th>\n",
       "      <td>2009-07-01</td>\n",
       "      <td>929.299988</td>\n",
       "      <td>958.099976</td>\n",
       "      <td>905.599976</td>\n",
       "      <td>953.700012</td>\n",
       "      <td>953.700012</td>\n",
       "      <td>177420</td>\n",
       "    </tr>\n",
       "    <tr>\n",
       "      <th>81</th>\n",
       "      <td>2009-08-01</td>\n",
       "      <td>952.599976</td>\n",
       "      <td>971.099976</td>\n",
       "      <td>931.500000</td>\n",
       "      <td>951.700012</td>\n",
       "      <td>951.700012</td>\n",
       "      <td>7492</td>\n",
       "    </tr>\n",
       "    <tr>\n",
       "      <th>82</th>\n",
       "      <td>2009-09-01</td>\n",
       "      <td>954.200012</td>\n",
       "      <td>1019.799988</td>\n",
       "      <td>948.700012</td>\n",
       "      <td>1008.000000</td>\n",
       "      <td>1008.000000</td>\n",
       "      <td>15642</td>\n",
       "    </tr>\n",
       "    <tr>\n",
       "      <th>83</th>\n",
       "      <td>2009-10-01</td>\n",
       "      <td>1007.400024</td>\n",
       "      <td>1070.199951</td>\n",
       "      <td>986.799988</td>\n",
       "      <td>1039.699951</td>\n",
       "      <td>1039.699951</td>\n",
       "      <td>3699</td>\n",
       "    </tr>\n",
       "  </tbody>\n",
       "</table>\n",
       "</div>"
      ],
      "text/plain": [
       "         Date         Open         High         Low        Close    Adj Close  \\\n",
       "77 2009-04-01   918.599976   932.500000  865.000000   890.700012   890.700012   \n",
       "78 2009-05-01   884.000000   980.400024  881.500000   978.799988   978.799988   \n",
       "79 2009-06-01   978.799988   990.299988  917.299988   927.099976   927.099976   \n",
       "80 2009-07-01   929.299988   958.099976  905.599976   953.700012   953.700012   \n",
       "81 2009-08-01   952.599976   971.099976  931.500000   951.700012   951.700012   \n",
       "82 2009-09-01   954.200012  1019.799988  948.700012  1008.000000  1008.000000   \n",
       "83 2009-10-01  1007.400024  1070.199951  986.799988  1039.699951  1039.699951   \n",
       "\n",
       "    Volume  \n",
       "77   17300  \n",
       "78  234559  \n",
       "79   12773  \n",
       "80  177420  \n",
       "81    7492  \n",
       "82   15642  \n",
       "83    3699  "
      ]
     },
     "execution_count": 33,
     "metadata": {},
     "output_type": "execute_result"
    }
   ],
   "source": [
    "show_range(gold_df, 'Date', dynamic_timestamp(2009, 3, 1), dynamic_timestamp(2009, 11, 1))"
   ]
  },
  {
   "cell_type": "code",
   "execution_count": 34,
   "metadata": {},
   "outputs": [],
   "source": [
    "# SARS timeline is from 11.16.2002 to 7.9.2003. \n",
    "# I will provide the graph when the SARS was going on and the post effect of the SARS on the stock market. \n",
    "# we don't have the data of 2002 as the data file starts from 2009.\n",
    "\n",
    "#swine flu timeline is from 04.1.2009 to 07.1.2010\n",
    "# i don't know who decided to use the line graph but we have a categorial and a integer as a variable so we have to use \n",
    "# bar graph"
   ]
  },
  {
   "cell_type": "code",
   "execution_count": 35,
   "metadata": {},
   "outputs": [],
   "source": [
    "SARS_gold = show_range(gold_df, 'Date', dynamic_timestamp(2002,11,16), dynamic_timestamp(2003,7,9))\n",
    "SARS_clf = show_range(clf_df, 'Date', dynamic_timestamp(2002,11,16), dynamic_timestamp(2003,7,9))\n",
    "SARS_spy = show_range(spy_df, 'Date', dynamic_timestamp(2002,11,16), dynamic_timestamp(2003,7,9))"
   ]
  },
  {
   "cell_type": "code",
   "execution_count": 36,
   "metadata": {},
   "outputs": [
    {
     "data": {
      "text/html": [
       "<div>\n",
       "<style scoped>\n",
       "    .dataframe tbody tr th:only-of-type {\n",
       "        vertical-align: middle;\n",
       "    }\n",
       "\n",
       "    .dataframe tbody tr th {\n",
       "        vertical-align: top;\n",
       "    }\n",
       "\n",
       "    .dataframe thead th {\n",
       "        text-align: right;\n",
       "    }\n",
       "</style>\n",
       "<table border=\"1\" class=\"dataframe\">\n",
       "  <thead>\n",
       "    <tr style=\"text-align: right;\">\n",
       "      <th></th>\n",
       "      <th>Date</th>\n",
       "      <th>Open</th>\n",
       "      <th>High</th>\n",
       "      <th>Low</th>\n",
       "      <th>Close</th>\n",
       "      <th>Adj Close</th>\n",
       "      <th>Volume</th>\n",
       "    </tr>\n",
       "  </thead>\n",
       "  <tbody>\n",
       "    <tr>\n",
       "      <th>78</th>\n",
       "      <td>2009-05-01</td>\n",
       "      <td>884.000000</td>\n",
       "      <td>980.400024</td>\n",
       "      <td>881.500000</td>\n",
       "      <td>978.799988</td>\n",
       "      <td>978.799988</td>\n",
       "      <td>234559</td>\n",
       "    </tr>\n",
       "    <tr>\n",
       "      <th>79</th>\n",
       "      <td>2009-06-01</td>\n",
       "      <td>978.799988</td>\n",
       "      <td>990.299988</td>\n",
       "      <td>917.299988</td>\n",
       "      <td>927.099976</td>\n",
       "      <td>927.099976</td>\n",
       "      <td>12773</td>\n",
       "    </tr>\n",
       "    <tr>\n",
       "      <th>80</th>\n",
       "      <td>2009-07-01</td>\n",
       "      <td>929.299988</td>\n",
       "      <td>958.099976</td>\n",
       "      <td>905.599976</td>\n",
       "      <td>953.700012</td>\n",
       "      <td>953.700012</td>\n",
       "      <td>177420</td>\n",
       "    </tr>\n",
       "    <tr>\n",
       "      <th>81</th>\n",
       "      <td>2009-08-01</td>\n",
       "      <td>952.599976</td>\n",
       "      <td>971.099976</td>\n",
       "      <td>931.500000</td>\n",
       "      <td>951.700012</td>\n",
       "      <td>951.700012</td>\n",
       "      <td>7492</td>\n",
       "    </tr>\n",
       "    <tr>\n",
       "      <th>82</th>\n",
       "      <td>2009-09-01</td>\n",
       "      <td>954.200012</td>\n",
       "      <td>1019.799988</td>\n",
       "      <td>948.700012</td>\n",
       "      <td>1008.000000</td>\n",
       "      <td>1008.000000</td>\n",
       "      <td>15642</td>\n",
       "    </tr>\n",
       "    <tr>\n",
       "      <th>83</th>\n",
       "      <td>2009-10-01</td>\n",
       "      <td>1007.400024</td>\n",
       "      <td>1070.199951</td>\n",
       "      <td>986.799988</td>\n",
       "      <td>1039.699951</td>\n",
       "      <td>1039.699951</td>\n",
       "      <td>3699</td>\n",
       "    </tr>\n",
       "    <tr>\n",
       "      <th>84</th>\n",
       "      <td>2009-11-01</td>\n",
       "      <td>1053.400024</td>\n",
       "      <td>1195.000000</td>\n",
       "      <td>1043.500000</td>\n",
       "      <td>1181.099976</td>\n",
       "      <td>1181.099976</td>\n",
       "      <td>333290</td>\n",
       "    </tr>\n",
       "    <tr>\n",
       "      <th>85</th>\n",
       "      <td>2009-12-01</td>\n",
       "      <td>1181.000000</td>\n",
       "      <td>1226.400024</td>\n",
       "      <td>1075.000000</td>\n",
       "      <td>1095.199951</td>\n",
       "      <td>1095.199951</td>\n",
       "      <td>24177</td>\n",
       "    </tr>\n",
       "    <tr>\n",
       "      <th>86</th>\n",
       "      <td>2010-01-01</td>\n",
       "      <td>1117.699951</td>\n",
       "      <td>1161.199951</td>\n",
       "      <td>1073.199951</td>\n",
       "      <td>1083.000000</td>\n",
       "      <td>1083.000000</td>\n",
       "      <td>320664</td>\n",
       "    </tr>\n",
       "    <tr>\n",
       "      <th>87</th>\n",
       "      <td>2010-02-01</td>\n",
       "      <td>1081.000000</td>\n",
       "      <td>1127.400024</td>\n",
       "      <td>1045.199951</td>\n",
       "      <td>1118.300049</td>\n",
       "      <td>1118.300049</td>\n",
       "      <td>18209</td>\n",
       "    </tr>\n",
       "    <tr>\n",
       "      <th>88</th>\n",
       "      <td>2010-03-01</td>\n",
       "      <td>1119.300049</td>\n",
       "      <td>1145.000000</td>\n",
       "      <td>1085.500000</td>\n",
       "      <td>1113.300049</td>\n",
       "      <td>1113.300049</td>\n",
       "      <td>222583</td>\n",
       "    </tr>\n",
       "    <tr>\n",
       "      <th>89</th>\n",
       "      <td>2010-04-01</td>\n",
       "      <td>1125.099976</td>\n",
       "      <td>1181.300049</td>\n",
       "      <td>1111.300049</td>\n",
       "      <td>1180.099976</td>\n",
       "      <td>1180.099976</td>\n",
       "      <td>10917</td>\n",
       "    </tr>\n",
       "    <tr>\n",
       "      <th>90</th>\n",
       "      <td>2010-05-01</td>\n",
       "      <td>1178.599976</td>\n",
       "      <td>1246.500000</td>\n",
       "      <td>1159.199951</td>\n",
       "      <td>1212.199951</td>\n",
       "      <td>1212.199951</td>\n",
       "      <td>361661</td>\n",
       "    </tr>\n",
       "    <tr>\n",
       "      <th>91</th>\n",
       "      <td>2010-06-01</td>\n",
       "      <td>1224.800049</td>\n",
       "      <td>1264.800049</td>\n",
       "      <td>1196.900024</td>\n",
       "      <td>1245.500000</td>\n",
       "      <td>1245.500000</td>\n",
       "      <td>16703</td>\n",
       "    </tr>\n",
       "  </tbody>\n",
       "</table>\n",
       "</div>"
      ],
      "text/plain": [
       "         Date         Open         High          Low        Close  \\\n",
       "78 2009-05-01   884.000000   980.400024   881.500000   978.799988   \n",
       "79 2009-06-01   978.799988   990.299988   917.299988   927.099976   \n",
       "80 2009-07-01   929.299988   958.099976   905.599976   953.700012   \n",
       "81 2009-08-01   952.599976   971.099976   931.500000   951.700012   \n",
       "82 2009-09-01   954.200012  1019.799988   948.700012  1008.000000   \n",
       "83 2009-10-01  1007.400024  1070.199951   986.799988  1039.699951   \n",
       "84 2009-11-01  1053.400024  1195.000000  1043.500000  1181.099976   \n",
       "85 2009-12-01  1181.000000  1226.400024  1075.000000  1095.199951   \n",
       "86 2010-01-01  1117.699951  1161.199951  1073.199951  1083.000000   \n",
       "87 2010-02-01  1081.000000  1127.400024  1045.199951  1118.300049   \n",
       "88 2010-03-01  1119.300049  1145.000000  1085.500000  1113.300049   \n",
       "89 2010-04-01  1125.099976  1181.300049  1111.300049  1180.099976   \n",
       "90 2010-05-01  1178.599976  1246.500000  1159.199951  1212.199951   \n",
       "91 2010-06-01  1224.800049  1264.800049  1196.900024  1245.500000   \n",
       "\n",
       "      Adj Close  Volume  \n",
       "78   978.799988  234559  \n",
       "79   927.099976   12773  \n",
       "80   953.700012  177420  \n",
       "81   951.700012    7492  \n",
       "82  1008.000000   15642  \n",
       "83  1039.699951    3699  \n",
       "84  1181.099976  333290  \n",
       "85  1095.199951   24177  \n",
       "86  1083.000000  320664  \n",
       "87  1118.300049   18209  \n",
       "88  1113.300049  222583  \n",
       "89  1180.099976   10917  \n",
       "90  1212.199951  361661  \n",
       "91  1245.500000   16703  "
      ]
     },
     "execution_count": 36,
     "metadata": {},
     "output_type": "execute_result"
    }
   ],
   "source": [
    "Flu_Gold = show_range(gold_df, 'Date', dynamic_timestamp(2009,4,1), dynamic_timestamp(2010,7,1))\n",
    "Flu_clf = show_range(clf_df, 'Date', dynamic_timestamp(2009,4,1), dynamic_timestamp(2010,7,1))\n",
    "Flu_spy = show_range(spy_df, 'Date', dynamic_timestamp(2009,4,1), dynamic_timestamp(2010,7,1))\n",
    "Flu_Gold"
   ]
  },
  {
   "cell_type": "code",
   "execution_count": 37,
   "metadata": {},
   "outputs": [],
   "source": [
    "# First 6 months of COVID-19\n",
    "COV19_gold = show_range(gold_df, 'Date', dynamic_timestamp(2019,12,31), dynamic_timestamp(2020,7,1))\n",
    "COV19_clf = show_range(clf_df, 'Date', dynamic_timestamp(2019,12,31), dynamic_timestamp(2020,7,1))\n",
    "COV19_spy = show_range(spy_df, 'Date', dynamic_timestamp(2019,12,31), dynamic_timestamp(2020,7,1))"
   ]
  },
  {
   "cell_type": "code",
   "execution_count": 38,
   "metadata": {},
   "outputs": [],
   "source": [
    "import matplotlib as mpl\n",
    "\n",
    "#this one is used the most often\n",
    "import matplotlib.pyplot as plt \n",
    "\n",
    "#produce static images in the entire notebook\n",
    "%matplotlib inline "
   ]
  },
  {
   "cell_type": "code",
   "execution_count": 39,
   "metadata": {},
   "outputs": [
    {
     "data": {
      "image/png": "[encoded data removed]",
      "text/plain": [
       "<Figure size 1440x720 with 1 Axes>"
      ]
     },
     "metadata": {
      "needs_background": "light"
     },
     "output_type": "display_data"
    }
   ],
   "source": [
    "\n",
    "label_location = np.arange(Flu_Gold.shape[0])\n",
    "plt.figure(figsize = (20,10))\n",
    "plt.bar(label_location, Flu_Gold['Open'],width = 0.3, label = 'Gold Open')\n",
    "plt.bar(label_location + 0.3, Flu_clf['Open'],width = 0.3, label = 'Crude Oil Open')\n",
    "plt.bar(label_location +0.6, Flu_spy['Open'], width = 0.3,label = 'Spy open')\n",
    "\n",
    "plt.legend();"
   ]
  },
  {
   "cell_type": "code",
   "execution_count": 68,
   "metadata": {},
   "outputs": [
    {
     "data": {
      "image/png": "[encoded data removed]",
      "text/plain": [
       "<Figure size 432x288 with 1 Axes>"
      ]
     },
     "metadata": {
      "needs_background": "light"
     },
     "output_type": "display_data"
    }
   ],
   "source": [
    "# Line graph SARS\n",
    "plt.plot(SARS_gold['Date'], SARS_gold['Open'])\n",
    "# plt.plot(SARS_clf['Date'], SARS_clf['Open'])\n",
    "plt.plot(SARS_spy['Date'], SARS_spy['Open']);"
   ]
  },
  {
   "cell_type": "code",
   "execution_count": 69,
   "metadata": {},
   "outputs": [
    {
     "data": {
      "text/plain": [
       "[<matplotlib.lines.Line2D at 0x20ac20590d0>]"
      ]
     },
     "execution_count": 69,
     "metadata": {},
     "output_type": "execute_result"
    },
    {
     "data": {
      "image/png": "[encoded data removed]",
      "text/plain": [
       "<Figure size 432x288 with 1 Axes>"
      ]
     },
     "metadata": {
      "needs_background": "light"
     },
     "output_type": "display_data"
    }
   ],
   "source": [
    "plt.plot(SARS_clf['Date'], SARS_clf['Open'])"
   ]
  },
  {
   "cell_type": "code",
   "execution_count": 48,
   "metadata": {},
   "outputs": [],
   "source": [
    "# Individual Line graph's for SARS\n",
    "\n",
    "# plt.plot(SARS_gold['Date'], SARS_spy['Open']);\n",
    "# plt.plot(SARS_clf['Date'], SARS_spy['Open']);\n",
    "# plt.plot(SARS_spy['Date'], SARS_spy['Open']);"
   ]
  },
  {
   "cell_type": "code",
   "execution_count": 66,
   "metadata": {},
   "outputs": [
    {
     "data": {
      "image/png": "[encoded data removed]",
      "text/plain": [
       "<Figure size 432x288 with 1 Axes>"
      ]
     },
     "metadata": {
      "needs_background": "light"
     },
     "output_type": "display_data"
    }
   ],
   "source": [
    "# Line graph SARS\n",
    "plt.plot(COV19_gold['Date'], COV19_gold['Open'])\n",
    "# plt.plot(COV19_clf['Date'], COV19_clf['Open'])\n",
    "plt.plot(COV19_spy['Date'], COV19_spy['Open']);"
   ]
  },
  {
   "cell_type": "code",
   "execution_count": 67,
   "metadata": {},
   "outputs": [
    {
     "data": {
      "text/plain": [
       "[<matplotlib.lines.Line2D at 0x20ac1ec5fa0>]"
      ]
     },
     "execution_count": 67,
     "metadata": {},
     "output_type": "execute_result"
    },
    {
     "data": {
      "image/png": "[encoded data removed]",
      "text/plain": [
       "<Figure size 432x288 with 1 Axes>"
      ]
     },
     "metadata": {
      "needs_background": "light"
     },
     "output_type": "display_data"
    }
   ],
   "source": [
    "plt.plot(COV19_clf['Date'], COV19_clf['Open'])"
   ]
  },
  {
   "cell_type": "code",
   "execution_count": 59,
   "metadata": {},
   "outputs": [],
   "source": [
    "# plt.plot(COV19_gold['Date'], COV19_gold['Open']);\n",
    "# plt.plot(COV19_clf['Date'], COV19_clf['Open']);\n",
    "# plt.plot(COV19_spy['Date'], COV19_spy['Open']);"
   ]
  },
  {
   "cell_type": "code",
   "execution_count": 63,
   "metadata": {},
   "outputs": [
    {
     "data": {
      "image/png": "[encoded data removed]",
      "text/plain": [
       "<Figure size 432x288 with 1 Axes>"
      ]
     },
     "metadata": {
      "needs_background": "light"
     },
     "output_type": "display_data"
    }
   ],
   "source": [
    "plt.plot(Flu_Gold['Date'], Flu_Gold['Open'])\n",
    "# plt.plot(Flu_clf['Date'], Flu_clf['Open'])\n",
    "plt.plot(Flu_spy['Date'], Flu_spy['Open']);"
   ]
  },
  {
   "cell_type": "code",
   "execution_count": 64,
   "metadata": {},
   "outputs": [
    {
     "data": {
      "text/plain": [
       "[<matplotlib.lines.Line2D at 0x20ac144e8b0>]"
      ]
     },
     "execution_count": 64,
     "metadata": {},
     "output_type": "execute_result"
    },
    {
     "data": {
      "image/png": "[encoded data removed]",
      "text/plain": [
       "<Figure size 432x288 with 1 Axes>"
      ]
     },
     "metadata": {
      "needs_background": "light"
     },
     "output_type": "display_data"
    }
   ],
   "source": [
    "plt.plot(Flu_clf['Date'], Flu_clf['Open'])"
   ]
  }
 ],
 "metadata": {
  "kernelspec": {
   "display_name": "Python 3",
   "language": "python",
   "name": "python3"
  },
  "language_info": {
   "codemirror_mode": {
    "name": "ipython",
    "version": 3
   },
   "file_extension": ".py",
   "mimetype": "text/x-python",
   "name": "python",
   "nbconvert_exporter": "python",
   "pygments_lexer": "ipython3",
   "version": "3.8.3"
  }
 },
 "nbformat": 4,
 "nbformat_minor": 4
}
