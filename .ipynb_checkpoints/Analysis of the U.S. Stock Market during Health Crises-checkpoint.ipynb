{
 "cells": [
  {
   "cell_type": "markdown",
   "metadata": {},
   "source": [
    "# Analysis of the U.S. Stock Market during Health Crises\n",
    "Jupyter Notebook\n",
    "\n",
    "Authors:\n",
    "Kush Patel, \n",
    "Katherine Thai, \n",
    "Jonathan Perez, \n",
    "Ron Nathaniel, \n",
    "Justin Molina, \n",
    "Dhrumil Rana, "
   ]
  },
  {
   "cell_type": "code",
   "execution_count": null,
   "metadata": {},
   "outputs": [],
   "source": [
    "import pandas as pd"
   ]
  },
  {
   "cell_type": "code",
   "execution_count": null,
   "metadata": {},
   "outputs": [],
   "source": [
    "file_gspc = '^GSPC.csv'\n",
    "file_cl_eq_f = 'CL=F.csv'\n",
    "file_gc_eq_f = 'GC=F.csv'\n",
    "\n",
    "gspc_df = pd.read_csv(file_gspc)\n",
    "clf_df = pd.read_csv(file_cl_eq_f)\n",
    "gcf_df = pd.read_csv(file_gc_eq_f)\n",
    "# gspc_df\n",
    "# clf_df\n",
    "# gcf_df"
   ]
  },
  {
   "cell_type": "code",
   "execution_count": null,
   "metadata": {},
   "outputs": [],
   "source": [
    "#\n",
    "# will have to do more than this since some have multiple pages\n",
    "# and others have headers and other substance that is not data\n",
    "#\n",
    "\n",
    "file_HC = \"S_P 500 - Health Care - PerformanceGraphExport.xls\"\n",
    "file_IN = \"S_P 500 - Industrials - PerformanceGraphExport.xls\"\n",
    "file_FN = \"S_P 500- Financials - PerformanceGraphExport.xls\"\n",
    "# file_esp = \"sp-500-esp_est.xlsx\"\n",
    "file_MA = \"sp-500-market-attributes-web-file.xlsx\"\n",
    "health_care = pd.read_excel(file_HC)\n",
    "industrials = pd.read_excel(file_IN)\n",
    "financials = pd.read_excel(file_FN)\n",
    "# esp_est = pd.read_excel(file_esp)\n",
    "market_attr_web = pd.read_excel(file_MA)\n"
   ]
  }
 ],
 "metadata": {
  "kernelspec": {
   "display_name": "Python 3",
   "language": "python",
   "name": "python3"
  },
  "language_info": {
   "codemirror_mode": {
    "name": "ipython",
    "version": 3
   },
   "file_extension": ".py",
   "mimetype": "text/x-python",
   "name": "python",
   "nbconvert_exporter": "python",
   "pygments_lexer": "ipython3",
   "version": "3.8.3"
  }
 },
 "nbformat": 4,
 "nbformat_minor": 4
}
