{
 "cells": [
  {
   "cell_type": "markdown",
   "metadata": {},
   "source": [
    "# Analysis of the U.S. Stock Market during Health Crises\n",
    "Jupyter Notebook\n",
    "\n",
    "Authors:\n",
    "Kush Patel, \n",
    "Katherine Thai, \n",
    "Jonathan Perez, \n",
    "Ron Nathaniel, \n",
    "Justin Molina, \n",
    "Dhrumil Rana, "
   ]
  },
  {
   "cell_type": "code",
   "execution_count": 1,
   "metadata": {},
   "outputs": [],
   "source": [
    "import pandas as pd"
   ]
  },
  {
   "cell_type": "code",
   "execution_count": 2,
   "metadata": {},
   "outputs": [],
   "source": [
    "# Opening CSV files using Pandas into df\n",
    "dir_data = 'project data\\\\'\n",
    "file_gspc = '^GSPC.csv'\n",
    "file_cl_eq_f = 'CL=F.csv'\n",
    "file_gc_eq_f = 'GC=F.csv'\n",
    "\n",
    "gspc_df = pd.read_csv(dir_data + file_gspc)\n",
    "clf_df = pd.read_csv(dir_data + file_cl_eq_f)\n",
    "gcf_df = pd.read_csv(dir_data + file_gc_eq_f)"
   ]
  },
  {
   "cell_type": "code",
   "execution_count": 3,
   "metadata": {},
   "outputs": [],
   "source": [
    "# gspc_df.head()"
   ]
  },
  {
   "cell_type": "code",
   "execution_count": 4,
   "metadata": {},
   "outputs": [],
   "source": [
    "# clf_df.head()"
   ]
  },
  {
   "cell_type": "code",
   "execution_count": 5,
   "metadata": {},
   "outputs": [],
   "source": [
    "# gcf_df.head()"
   ]
  },
  {
   "cell_type": "code",
   "execution_count": 4,
   "metadata": {},
   "outputs": [],
   "source": [
    "#\n",
    "# will have to do more than this since some have multiple pages\n",
    "# and others have headers and other substance that is not data\n",
    "#\n",
    "dir_SP = \"S&P sector return\\\\\"\n",
    "file_HC = \"S&P 500 - Health Care - PerformanceGraphExport.xls\"\n",
    "file_IN = \"S&P 500 - Industrials - PerformanceGraphExport.xls\"\n",
    "file_FN = \"S&P 500- Financials - PerformanceGraphExport.xls\"\n",
    "# file_esp = \"sp-500-esp_est.xlsx\"\n",
    "file_MA = \"sp-500-market-attributes-web-file.xlsx\"\n",
    "health_care = pd.read_excel(dir_SP + file_HC)\n",
    "industrials = pd.read_excel(dir_SP + file_IN)\n",
    "financials = pd.read_excel(dir_SP + file_FN)\n",
    "# esp_est = pd.read_excel(dir_SP + file_esp)\n",
    "market_attr_web = pd.read_excel(dir_SP + file_MA)\n"
   ]
  },
  {
   "cell_type": "code",
   "execution_count": 8,
   "metadata": {},
   "outputs": [
    {
     "data": {
      "text/html": [
       "<div>\n",
       "<style scoped>\n",
       "    .dataframe tbody tr th:only-of-type {\n",
       "        vertical-align: middle;\n",
       "    }\n",
       "\n",
       "    .dataframe tbody tr th {\n",
       "        vertical-align: top;\n",
       "    }\n",
       "\n",
       "    .dataframe thead th {\n",
       "        text-align: right;\n",
       "    }\n",
       "</style>\n",
       "<table border=\"1\" class=\"dataframe\">\n",
       "  <thead>\n",
       "    <tr style=\"text-align: right;\">\n",
       "      <th></th>\n",
       "      <th>Date</th>\n",
       "      <th>Open</th>\n",
       "      <th>High</th>\n",
       "      <th>Low</th>\n",
       "      <th>Close</th>\n",
       "      <th>Adj Close</th>\n",
       "      <th>Volume</th>\n",
       "    </tr>\n",
       "  </thead>\n",
       "  <tbody>\n",
       "    <tr>\n",
       "      <th>0</th>\n",
       "      <td>2009-01-01</td>\n",
       "      <td>902.989990</td>\n",
       "      <td>943.849976</td>\n",
       "      <td>804.299988</td>\n",
       "      <td>825.880005</td>\n",
       "      <td>825.880005</td>\n",
       "      <td>112090640000</td>\n",
       "    </tr>\n",
       "    <tr>\n",
       "      <th>1</th>\n",
       "      <td>2009-02-01</td>\n",
       "      <td>823.090027</td>\n",
       "      <td>875.010010</td>\n",
       "      <td>734.520020</td>\n",
       "      <td>735.090027</td>\n",
       "      <td>735.090027</td>\n",
       "      <td>124492210000</td>\n",
       "    </tr>\n",
       "    <tr>\n",
       "      <th>2</th>\n",
       "      <td>2009-03-01</td>\n",
       "      <td>729.570007</td>\n",
       "      <td>832.979980</td>\n",
       "      <td>666.789978</td>\n",
       "      <td>797.869995</td>\n",
       "      <td>797.869995</td>\n",
       "      <td>161843640000</td>\n",
       "    </tr>\n",
       "    <tr>\n",
       "      <th>3</th>\n",
       "      <td>2009-04-01</td>\n",
       "      <td>793.590027</td>\n",
       "      <td>888.700012</td>\n",
       "      <td>783.320007</td>\n",
       "      <td>872.809998</td>\n",
       "      <td>872.809998</td>\n",
       "      <td>138855320000</td>\n",
       "    </tr>\n",
       "    <tr>\n",
       "      <th>4</th>\n",
       "      <td>2009-05-01</td>\n",
       "      <td>872.739990</td>\n",
       "      <td>930.169983</td>\n",
       "      <td>866.099976</td>\n",
       "      <td>919.140015</td>\n",
       "      <td>919.140015</td>\n",
       "      <td>131614940000</td>\n",
       "    </tr>\n",
       "  </tbody>\n",
       "</table>\n",
       "</div>"
      ],
      "text/plain": [
       "         Date        Open        High         Low       Close   Adj Close  \\\n",
       "0  2009-01-01  902.989990  943.849976  804.299988  825.880005  825.880005   \n",
       "1  2009-02-01  823.090027  875.010010  734.520020  735.090027  735.090027   \n",
       "2  2009-03-01  729.570007  832.979980  666.789978  797.869995  797.869995   \n",
       "3  2009-04-01  793.590027  888.700012  783.320007  872.809998  872.809998   \n",
       "4  2009-05-01  872.739990  930.169983  866.099976  919.140015  919.140015   \n",
       "\n",
       "         Volume  \n",
       "0  112090640000  \n",
       "1  124492210000  \n",
       "2  161843640000  \n",
       "3  138855320000  \n",
       "4  131614940000  "
      ]
     },
     "execution_count": 8,
     "metadata": {},
     "output_type": "execute_result"
    }
   ],
   "source": [
    "gspc_df.head()\n",
    "\n"
   ]
  },
  {
   "cell_type": "code",
   "execution_count": 9,
   "metadata": {},
   "outputs": [
    {
     "data": {
      "text/html": [
       "<div>\n",
       "<style scoped>\n",
       "    .dataframe tbody tr th:only-of-type {\n",
       "        vertical-align: middle;\n",
       "    }\n",
       "\n",
       "    .dataframe tbody tr th {\n",
       "        vertical-align: top;\n",
       "    }\n",
       "\n",
       "    .dataframe thead th {\n",
       "        text-align: right;\n",
       "    }\n",
       "</style>\n",
       "<table border=\"1\" class=\"dataframe\">\n",
       "  <thead>\n",
       "    <tr style=\"text-align: right;\">\n",
       "      <th></th>\n",
       "      <th>Date</th>\n",
       "      <th>Open</th>\n",
       "      <th>High</th>\n",
       "      <th>Low</th>\n",
       "      <th>Close</th>\n",
       "      <th>Adj Close</th>\n",
       "      <th>Volume</th>\n",
       "    </tr>\n",
       "  </thead>\n",
       "  <tbody>\n",
       "    <tr>\n",
       "      <th>0</th>\n",
       "      <td>2009-01-01</td>\n",
       "      <td>43.720001</td>\n",
       "      <td>50.470001</td>\n",
       "      <td>32.700001</td>\n",
       "      <td>41.680000</td>\n",
       "      <td>41.680000</td>\n",
       "      <td>5452571</td>\n",
       "    </tr>\n",
       "    <tr>\n",
       "      <th>1</th>\n",
       "      <td>2009-02-01</td>\n",
       "      <td>42.220001</td>\n",
       "      <td>45.299999</td>\n",
       "      <td>33.549999</td>\n",
       "      <td>44.759998</td>\n",
       "      <td>44.759998</td>\n",
       "      <td>5075519</td>\n",
       "    </tr>\n",
       "    <tr>\n",
       "      <th>2</th>\n",
       "      <td>2009-03-01</td>\n",
       "      <td>44.340000</td>\n",
       "      <td>54.660000</td>\n",
       "      <td>39.439999</td>\n",
       "      <td>49.660000</td>\n",
       "      <td>49.660000</td>\n",
       "      <td>5322078</td>\n",
       "    </tr>\n",
       "    <tr>\n",
       "      <th>3</th>\n",
       "      <td>2009-04-01</td>\n",
       "      <td>48.959999</td>\n",
       "      <td>53.900002</td>\n",
       "      <td>43.830002</td>\n",
       "      <td>51.119999</td>\n",
       "      <td>51.119999</td>\n",
       "      <td>4954274</td>\n",
       "    </tr>\n",
       "    <tr>\n",
       "      <th>4</th>\n",
       "      <td>2009-05-01</td>\n",
       "      <td>50.950001</td>\n",
       "      <td>66.639999</td>\n",
       "      <td>50.430000</td>\n",
       "      <td>66.309998</td>\n",
       "      <td>66.309998</td>\n",
       "      <td>5254102</td>\n",
       "    </tr>\n",
       "  </tbody>\n",
       "</table>\n",
       "</div>"
      ],
      "text/plain": [
       "         Date       Open       High        Low      Close  Adj Close   Volume\n",
       "0  2009-01-01  43.720001  50.470001  32.700001  41.680000  41.680000  5452571\n",
       "1  2009-02-01  42.220001  45.299999  33.549999  44.759998  44.759998  5075519\n",
       "2  2009-03-01  44.340000  54.660000  39.439999  49.660000  49.660000  5322078\n",
       "3  2009-04-01  48.959999  53.900002  43.830002  51.119999  51.119999  4954274\n",
       "4  2009-05-01  50.950001  66.639999  50.430000  66.309998  66.309998  5254102"
      ]
     },
     "execution_count": 9,
     "metadata": {},
     "output_type": "execute_result"
    }
   ],
   "source": [
    "clf_df.head()"
   ]
  },
  {
   "cell_type": "code",
   "execution_count": 10,
   "metadata": {},
   "outputs": [
    {
     "data": {
      "text/html": [
       "<div>\n",
       "<style scoped>\n",
       "    .dataframe tbody tr th:only-of-type {\n",
       "        vertical-align: middle;\n",
       "    }\n",
       "\n",
       "    .dataframe tbody tr th {\n",
       "        vertical-align: top;\n",
       "    }\n",
       "\n",
       "    .dataframe thead th {\n",
       "        text-align: right;\n",
       "    }\n",
       "</style>\n",
       "<table border=\"1\" class=\"dataframe\">\n",
       "  <thead>\n",
       "    <tr style=\"text-align: right;\">\n",
       "      <th></th>\n",
       "      <th>Date</th>\n",
       "      <th>Open</th>\n",
       "      <th>High</th>\n",
       "      <th>Low</th>\n",
       "      <th>Close</th>\n",
       "      <th>Adj Close</th>\n",
       "      <th>Volume</th>\n",
       "    </tr>\n",
       "  </thead>\n",
       "  <tbody>\n",
       "    <tr>\n",
       "      <th>0</th>\n",
       "      <td>2009-01-01</td>\n",
       "      <td>881.500000</td>\n",
       "      <td>930.299988</td>\n",
       "      <td>805.599976</td>\n",
       "      <td>927.299988</td>\n",
       "      <td>927.299988</td>\n",
       "      <td>215420</td>\n",
       "    </tr>\n",
       "    <tr>\n",
       "      <th>1</th>\n",
       "      <td>2009-02-01</td>\n",
       "      <td>924.299988</td>\n",
       "      <td>1004.900024</td>\n",
       "      <td>889.799988</td>\n",
       "      <td>941.500000</td>\n",
       "      <td>941.500000</td>\n",
       "      <td>14216</td>\n",
       "    </tr>\n",
       "    <tr>\n",
       "      <th>2</th>\n",
       "      <td>2009-03-01</td>\n",
       "      <td>945.000000</td>\n",
       "      <td>963.200012</td>\n",
       "      <td>885.000000</td>\n",
       "      <td>922.599976</td>\n",
       "      <td>922.599976</td>\n",
       "      <td>178292</td>\n",
       "    </tr>\n",
       "    <tr>\n",
       "      <th>3</th>\n",
       "      <td>2009-04-01</td>\n",
       "      <td>918.599976</td>\n",
       "      <td>932.500000</td>\n",
       "      <td>865.000000</td>\n",
       "      <td>890.700012</td>\n",
       "      <td>890.700012</td>\n",
       "      <td>17300</td>\n",
       "    </tr>\n",
       "    <tr>\n",
       "      <th>4</th>\n",
       "      <td>2009-05-01</td>\n",
       "      <td>884.000000</td>\n",
       "      <td>980.400024</td>\n",
       "      <td>881.500000</td>\n",
       "      <td>978.799988</td>\n",
       "      <td>978.799988</td>\n",
       "      <td>234559</td>\n",
       "    </tr>\n",
       "  </tbody>\n",
       "</table>\n",
       "</div>"
      ],
      "text/plain": [
       "         Date        Open         High         Low       Close   Adj Close  \\\n",
       "0  2009-01-01  881.500000   930.299988  805.599976  927.299988  927.299988   \n",
       "1  2009-02-01  924.299988  1004.900024  889.799988  941.500000  941.500000   \n",
       "2  2009-03-01  945.000000   963.200012  885.000000  922.599976  922.599976   \n",
       "3  2009-04-01  918.599976   932.500000  865.000000  890.700012  890.700012   \n",
       "4  2009-05-01  884.000000   980.400024  881.500000  978.799988  978.799988   \n",
       "\n",
       "   Volume  \n",
       "0  215420  \n",
       "1   14216  \n",
       "2  178292  \n",
       "3   17300  \n",
       "4  234559  "
      ]
     },
     "execution_count": 10,
     "metadata": {},
     "output_type": "execute_result"
    }
   ],
   "source": [
    "gcf_df.head()"
   ]
  },
  {
   "cell_type": "code",
   "execution_count": 18,
   "metadata": {},
   "outputs": [
    {
     "data": {
      "text/plain": [
       "1150.35"
      ]
     },
     "execution_count": 18,
     "metadata": {},
     "output_type": "execute_result"
    }
   ],
   "source": [
    "open_25 = gspc_df['Open'].quantile(0.25)\n",
    "open_25 = open_25.round(2)\n",
    "open_75 = gspc_df['Open'].quantile(0.75)\n",
    "open_75 = open_75.round(2)\n",
    "diff = open_75-open_25\n",
    "diff = diff.round(2)"
   ]
  },
  {
   "cell_type": "code",
   "execution_count": 27,
   "metadata": {},
   "outputs": [
    {
     "name": "stdout",
     "output_type": "stream",
     "text": [
      "There range of the open is (1326.64,2476.99)\n",
      "There are 0 outliers\n"
     ]
    }
   ],
   "source": [
    "outlier = gspc_df.loc[(gspc_df['Open'] < open_25 - (1.5 * diff)) | (gspc_df['Open'] > open_75 + (1.5* diff))]\n",
    "print('There range of the open is (' +str(open_25) + ','+ str(open_75) + ')' )\n",
    "print ('There are ' + str(outlier['Open'].count()) + ' outliers')"
   ]
  },
  {
   "cell_type": "code",
   "execution_count": 62,
   "metadata": {},
   "outputs": [
    {
     "data": {
      "text/plain": [
       "(0, 7)"
      ]
     },
     "execution_count": 62,
     "metadata": {},
     "output_type": "execute_result"
    }
   ],
   "source": [
    "High_25 = gspc_df['High'].quantile(0.25)\n",
    "High_25 = High_25.round(2)\n",
    "High_75 = gspc_df['High'].quantile(0.75)\n",
    "High_75 = High_75.round(2)\n",
    "diff = High_75-High_25\n",
    "diff = diff.round(2)\n",
    "outlier = gspc_df.loc[(gspc_df['High'] < High_25 - (1.5 * diff)) | (gspc_df['High'] > High_75 + (1.5* diff))]\n",
    "outlier.shape\n"
   ]
  },
  {
   "cell_type": "code",
   "execution_count": 29,
   "metadata": {},
   "outputs": [
    {
     "name": "stdout",
     "output_type": "stream",
     "text": [
      "There range of the High is (1361.71,2535.32)\n",
      "There are 0 outliers\n"
     ]
    }
   ],
   "source": [
    "print('There range of the High is (' +str(High_25) + ','+ str(High_75) + ')' )\n",
    "print ('There are ' + str(outlier['High'].count()) + ' outliers')"
   ]
  },
  {
   "cell_type": "code",
   "execution_count": 61,
   "metadata": {},
   "outputs": [
    {
     "data": {
      "text/plain": [
       "(0, 7)"
      ]
     },
     "execution_count": 61,
     "metadata": {},
     "output_type": "execute_result"
    }
   ],
   "source": [
    "Low_25 = gspc_df['Low'].quantile(0.25)\n",
    "Low_25 = Low_25.round(2)\n",
    "Low_75 = gspc_df['Low'].quantile(0.75)\n",
    "Low_75 = Low_75.round(2)\n",
    "diff = Low_75-Low_25\n",
    "diff = diff.round(2)\n",
    "outlier =gspc_df.loc[(gspc_df['Low'] < Low_25 - (1.5 * diff)) | (gspc_df['Low'] > Low_75 + (1.5* diff))]\n",
    "outlier.shape"
   ]
  },
  {
   "cell_type": "code",
   "execution_count": 31,
   "metadata": {},
   "outputs": [
    {
     "name": "stdout",
     "output_type": "stream",
     "text": [
      "There range of the Low is (1287.57,2410.11)\n",
      "There are 0 outliers\n"
     ]
    }
   ],
   "source": [
    "print('There range of the Low is (' +str(Low_25) + ','+ str(Low_75) + ')' )\n",
    "print ('There are ' + str(outlier['Low'].count()) + ' outliers')"
   ]
  },
  {
   "cell_type": "code",
   "execution_count": 60,
   "metadata": {},
   "outputs": [
    {
     "data": {
      "text/plain": [
       "(0, 7)"
      ]
     },
     "execution_count": 60,
     "metadata": {},
     "output_type": "execute_result"
    }
   ],
   "source": [
    "close_25 = gspc_df['Close'].quantile(0.25)\n",
    "close_25 = close_25.round(2)\n",
    "close_75 = gspc_df['Close'].quantile(0.75)\n",
    "close_75 = close_75.round(2)\n",
    "diff = close_75-close_25\n",
    "diff = diff.round(2)\n",
    "outlier = gspc_df.loc[(gspc_df['Close'] < close_25 - (1.5 * diff)) | (gspc_df['Close'] > close_75 + (1.5* diff))]\n",
    "outlier.shape"
   ]
  },
  {
   "cell_type": "code",
   "execution_count": 43,
   "metadata": {},
   "outputs": [
    {
     "name": "stdout",
     "output_type": "stream",
     "text": [
      "There range of the Close is (1326.87,2509.98)\n",
      "There are 0 outliers\n"
     ]
    }
   ],
   "source": [
    "print('There range of the Close is (' +str(close_25) + ','+ str(close_75) + ')' )\n",
    "print ('There are ' + str(outlier['Close'].count()) + ' outliers')"
   ]
  },
  {
   "cell_type": "code",
   "execution_count": 59,
   "metadata": {},
   "outputs": [
    {
     "data": {
      "text/plain": [
       "(0, 7)"
      ]
     },
     "execution_count": 59,
     "metadata": {},
     "output_type": "execute_result"
    }
   ],
   "source": [
    "Adj_close_25 = gspc_df['Adj Close'].quantile(0.25)\n",
    "Adj_close_25 = Adj_close_25.round(2)\n",
    "Adj_close_75 = gspc_df['Adj Close'].quantile(0.75)\n",
    "Adj_close_75 = Adj_close_75.round(2)\n",
    "diff = Adj_close_75- Adj_close_25\n",
    "diff = diff.round(2)\n",
    "outlier = gspc_df.loc[(gspc_df['Adj Close'] < Adj_close_25 - (1.5 * diff)) | (gspc_df['Adj Close'] > Adj_close_75 + (1.5* diff))]\n",
    "outlier.shape"
   ]
  },
  {
   "cell_type": "code",
   "execution_count": 45,
   "metadata": {},
   "outputs": [
    {
     "name": "stdout",
     "output_type": "stream",
     "text": [
      "There range of the Adj Close is (1326.87,2509.98)\n",
      "There are 0 outliers\n"
     ]
    }
   ],
   "source": [
    "print('There range of the Adj Close is (' +str(Adj_close_25) + ','+ str(Adj_close_75) + ')' )\n",
    "print ('There are ' + str(outlier['Adj Close'].count()) + ' outliers')"
   ]
  },
  {
   "cell_type": "code",
   "execution_count": 65,
   "metadata": {},
   "outputs": [
    {
     "data": {
      "text/plain": [
       "(12, 7)"
      ]
     },
     "execution_count": 65,
     "metadata": {},
     "output_type": "execute_result"
    }
   ],
   "source": [
    "Volume_25 = gspc_df['Volume'].quantile(0.25)\n",
    "Volume_75 = gspc_df['Volume'].quantile(0.75)\n",
    "diff = Volume_75- Volume_25\n",
    "outlier = gspc_df.loc[(gspc_df['Volume'] < Volume_25 - (1.5 * diff)) | (gspc_df['Volume'] > Volume_75 + (1.5* diff))]\n",
    "outlier.shape"
   ]
  },
  {
   "cell_type": "code",
   "execution_count": 64,
   "metadata": {},
   "outputs": [
    {
     "name": "stdout",
     "output_type": "stream",
     "text": [
      "There range of the Volume is (70807685000.0,87438242500.0)\n",
      "There are 12 outliers\n"
     ]
    }
   ],
   "source": [
    "print('There range of the Volume is (' +str(Volume_25) + ','+ str(Volume_75) + ')' )\n",
    "print ('There are ' + str(outlier.shape[0]) + ' outliers')"
   ]
  },
  {
   "cell_type": "code",
   "execution_count": 66,
   "metadata": {},
   "outputs": [
    {
     "data": {
      "text/html": [
       "<div>\n",
       "<style scoped>\n",
       "    .dataframe tbody tr th:only-of-type {\n",
       "        vertical-align: middle;\n",
       "    }\n",
       "\n",
       "    .dataframe tbody tr th {\n",
       "        vertical-align: top;\n",
       "    }\n",
       "\n",
       "    .dataframe thead th {\n",
       "        text-align: right;\n",
       "    }\n",
       "</style>\n",
       "<table border=\"1\" class=\"dataframe\">\n",
       "  <thead>\n",
       "    <tr style=\"text-align: right;\">\n",
       "      <th></th>\n",
       "      <th>Date</th>\n",
       "      <th>Open</th>\n",
       "      <th>High</th>\n",
       "      <th>Low</th>\n",
       "      <th>Close</th>\n",
       "      <th>Adj Close</th>\n",
       "      <th>Volume</th>\n",
       "    </tr>\n",
       "  </thead>\n",
       "  <tbody>\n",
       "    <tr>\n",
       "      <th>1</th>\n",
       "      <td>2009-02-01</td>\n",
       "      <td>823.090027</td>\n",
       "      <td>875.010010</td>\n",
       "      <td>734.520020</td>\n",
       "      <td>735.090027</td>\n",
       "      <td>735.090027</td>\n",
       "      <td>124492210000</td>\n",
       "    </tr>\n",
       "    <tr>\n",
       "      <th>2</th>\n",
       "      <td>2009-03-01</td>\n",
       "      <td>729.570007</td>\n",
       "      <td>832.979980</td>\n",
       "      <td>666.789978</td>\n",
       "      <td>797.869995</td>\n",
       "      <td>797.869995</td>\n",
       "      <td>161843640000</td>\n",
       "    </tr>\n",
       "    <tr>\n",
       "      <th>3</th>\n",
       "      <td>2009-04-01</td>\n",
       "      <td>793.590027</td>\n",
       "      <td>888.700012</td>\n",
       "      <td>783.320007</td>\n",
       "      <td>872.809998</td>\n",
       "      <td>872.809998</td>\n",
       "      <td>138855320000</td>\n",
       "    </tr>\n",
       "    <tr>\n",
       "      <th>4</th>\n",
       "      <td>2009-05-01</td>\n",
       "      <td>872.739990</td>\n",
       "      <td>930.169983</td>\n",
       "      <td>866.099976</td>\n",
       "      <td>919.140015</td>\n",
       "      <td>919.140015</td>\n",
       "      <td>131614940000</td>\n",
       "    </tr>\n",
       "    <tr>\n",
       "      <th>5</th>\n",
       "      <td>2009-06-01</td>\n",
       "      <td>923.260010</td>\n",
       "      <td>956.229980</td>\n",
       "      <td>888.859985</td>\n",
       "      <td>919.320007</td>\n",
       "      <td>919.320007</td>\n",
       "      <td>112653150000</td>\n",
       "    </tr>\n",
       "    <tr>\n",
       "      <th>7</th>\n",
       "      <td>2009-08-01</td>\n",
       "      <td>990.219971</td>\n",
       "      <td>1039.469971</td>\n",
       "      <td>978.510010</td>\n",
       "      <td>1020.619995</td>\n",
       "      <td>1020.619995</td>\n",
       "      <td>116059270000</td>\n",
       "    </tr>\n",
       "    <tr>\n",
       "      <th>9</th>\n",
       "      <td>2009-10-01</td>\n",
       "      <td>1054.910034</td>\n",
       "      <td>1101.359985</td>\n",
       "      <td>1019.950012</td>\n",
       "      <td>1036.189941</td>\n",
       "      <td>1036.189941</td>\n",
       "      <td>113410990000</td>\n",
       "    </tr>\n",
       "    <tr>\n",
       "      <th>15</th>\n",
       "      <td>2010-04-01</td>\n",
       "      <td>1171.229980</td>\n",
       "      <td>1219.800049</td>\n",
       "      <td>1170.689941</td>\n",
       "      <td>1186.689941</td>\n",
       "      <td>1186.689941</td>\n",
       "      <td>116741910000</td>\n",
       "    </tr>\n",
       "    <tr>\n",
       "      <th>16</th>\n",
       "      <td>2010-05-01</td>\n",
       "      <td>1188.579956</td>\n",
       "      <td>1205.130005</td>\n",
       "      <td>1040.780029</td>\n",
       "      <td>1089.410034</td>\n",
       "      <td>1089.410034</td>\n",
       "      <td>127662780000</td>\n",
       "    </tr>\n",
       "    <tr>\n",
       "      <th>134</th>\n",
       "      <td>2020-03-01</td>\n",
       "      <td>2974.280029</td>\n",
       "      <td>3136.719971</td>\n",
       "      <td>2191.860107</td>\n",
       "      <td>2584.590088</td>\n",
       "      <td>2584.590088</td>\n",
       "      <td>161801100000</td>\n",
       "    </tr>\n",
       "    <tr>\n",
       "      <th>135</th>\n",
       "      <td>2020-04-01</td>\n",
       "      <td>2498.080078</td>\n",
       "      <td>2954.860107</td>\n",
       "      <td>2447.489990</td>\n",
       "      <td>2912.429932</td>\n",
       "      <td>2912.429932</td>\n",
       "      <td>123163450000</td>\n",
       "    </tr>\n",
       "    <tr>\n",
       "      <th>137</th>\n",
       "      <td>2020-06-01</td>\n",
       "      <td>3038.780029</td>\n",
       "      <td>3233.129883</td>\n",
       "      <td>2965.659912</td>\n",
       "      <td>3100.290039</td>\n",
       "      <td>3100.290039</td>\n",
       "      <td>131044000000</td>\n",
       "    </tr>\n",
       "  </tbody>\n",
       "</table>\n",
       "</div>"
      ],
      "text/plain": [
       "           Date         Open         High          Low        Close  \\\n",
       "1    2009-02-01   823.090027   875.010010   734.520020   735.090027   \n",
       "2    2009-03-01   729.570007   832.979980   666.789978   797.869995   \n",
       "3    2009-04-01   793.590027   888.700012   783.320007   872.809998   \n",
       "4    2009-05-01   872.739990   930.169983   866.099976   919.140015   \n",
       "5    2009-06-01   923.260010   956.229980   888.859985   919.320007   \n",
       "7    2009-08-01   990.219971  1039.469971   978.510010  1020.619995   \n",
       "9    2009-10-01  1054.910034  1101.359985  1019.950012  1036.189941   \n",
       "15   2010-04-01  1171.229980  1219.800049  1170.689941  1186.689941   \n",
       "16   2010-05-01  1188.579956  1205.130005  1040.780029  1089.410034   \n",
       "134  2020-03-01  2974.280029  3136.719971  2191.860107  2584.590088   \n",
       "135  2020-04-01  2498.080078  2954.860107  2447.489990  2912.429932   \n",
       "137  2020-06-01  3038.780029  3233.129883  2965.659912  3100.290039   \n",
       "\n",
       "       Adj Close        Volume  \n",
       "1     735.090027  124492210000  \n",
       "2     797.869995  161843640000  \n",
       "3     872.809998  138855320000  \n",
       "4     919.140015  131614940000  \n",
       "5     919.320007  112653150000  \n",
       "7    1020.619995  116059270000  \n",
       "9    1036.189941  113410990000  \n",
       "15   1186.689941  116741910000  \n",
       "16   1089.410034  127662780000  \n",
       "134  2584.590088  161801100000  \n",
       "135  2912.429932  123163450000  \n",
       "137  3100.290039  131044000000  "
      ]
     },
     "execution_count": 66,
     "metadata": {},
     "output_type": "execute_result"
    }
   ],
   "source": [
    "outlier"
   ]
  },
  {
   "cell_type": "code",
   "execution_count": null,
   "metadata": {},
   "outputs": [],
   "source": []
  }
 ],
 "metadata": {
  "kernelspec": {
   "display_name": "Python 3",
   "language": "python",
   "name": "python3"
  },
  "language_info": {
   "codemirror_mode": {
    "name": "ipython",
    "version": 3
   },
   "file_extension": ".py",
   "mimetype": "text/x-python",
   "name": "python",
   "nbconvert_exporter": "python",
   "pygments_lexer": "ipython3",
   "version": "3.8.3"
  }
 },
 "nbformat": 4,
 "nbformat_minor": 4
}
